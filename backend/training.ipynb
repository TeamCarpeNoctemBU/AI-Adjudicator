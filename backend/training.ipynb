{
 "cells": [
  {
   "cell_type": "code",
   "execution_count": 1,
   "metadata": {},
   "outputs": [],
   "source": [
    "import re\n",
    "import pandas as pd\n",
    "import numpy as np\n",
    "import spacy"
   ]
  },
  {
   "cell_type": "code",
   "execution_count": 2,
   "metadata": {},
   "outputs": [],
   "source": [
    "def clean(text): \n",
    "    text = re.sub('[0-9]+.\\t' + '...','',str(text))\n",
    "    text = re.sub('\\n ','',str(text))\n",
    "    text = re.sub('\\n',' ',str(text))\n",
    "    text = re.sub(\"'s\",'',str(text))\n",
    "    text = re.sub(\"-\",' ',str(text))\n",
    "    text = re.sub(\"—\",'',str(text))\n",
    "    text = re.sub('\\\"','',str(text))\n",
    "    text = re.sub(\"Mr\\.\",'Mr',str(text))\n",
    "    text = re.sub(\"Mrs\\.\",'Mrs',str(text))\n",
    "    text = re.sub(\"[\\(\\[].*?[\\)\\]]\", \"\", str(text))\n",
    "    text = re.sub(r'^https?:\\/\\/.*[\\r\\n]*', '', text, flags=re.MULTILINE)\n",
    "    return [text]"
   ]
  },
  {
   "cell_type": "code",
   "execution_count": 4,
   "metadata": {},
   "outputs": [
    {
     "data": {
      "text/html": [
       "<div>\n",
       "<style scoped>\n",
       "    .dataframe tbody tr th:only-of-type {\n",
       "        vertical-align: middle;\n",
       "    }\n",
       "\n",
       "    .dataframe tbody tr th {\n",
       "        vertical-align: top;\n",
       "    }\n",
       "\n",
       "    .dataframe thead th {\n",
       "        text-align: right;\n",
       "    }\n",
       "</style>\n",
       "<table border=\"1\" class=\"dataframe\">\n",
       "  <thead>\n",
       "    <tr style=\"text-align: right;\">\n",
       "      <th></th>\n",
       "      <th>id</th>\n",
       "      <th>title</th>\n",
       "      <th>publisher</th>\n",
       "      <th>category</th>\n",
       "      <th>story</th>\n",
       "      <th>main_content</th>\n",
       "      <th>main_content_len</th>\n",
       "      <th>Speech_clean</th>\n",
       "      <th>sent</th>\n",
       "    </tr>\n",
       "  </thead>\n",
       "  <tbody>\n",
       "    <tr>\n",
       "      <th>0</th>\n",
       "      <td>22237</td>\n",
       "      <td>The Incredibles 2, Cars 3 in the works, Disney...</td>\n",
       "      <td>Digital Spy</td>\n",
       "      <td>e</td>\n",
       "      <td>dABGVITQs6X1I4MdYGnX9zY59PpVM</td>\n",
       "      <td>The Incredibles 2 and Cars 3 are in developmen...</td>\n",
       "      <td>1340.0</td>\n",
       "      <td>The Incredibles 2 and Cars 3 are in developmen...</td>\n",
       "      <td>[The Incredibles 2 and Cars 3 are in developme...</td>\n",
       "    </tr>\n",
       "    <tr>\n",
       "      <th>1</th>\n",
       "      <td>22241</td>\n",
       "      <td>The Incredibles are set for another big-screen...</td>\n",
       "      <td>Belfast Telegraph</td>\n",
       "      <td>e</td>\n",
       "      <td>dABGVITQs6X1I4MdYGnX9zY59PpVM</td>\n",
       "      <td>Incredibles 2, Cars 3 in the works BelfastTele...</td>\n",
       "      <td>1620.0</td>\n",
       "      <td>Incredibles 2, Cars 3 in the works BelfastTele...</td>\n",
       "      <td>[Incredibles 2, Cars 3 in the works BelfastTel...</td>\n",
       "    </tr>\n",
       "    <tr>\n",
       "      <th>2</th>\n",
       "      <td>22244</td>\n",
       "      <td>Pixar Working On Sequels For Popular Animated ...</td>\n",
       "      <td>Online News Heard Now</td>\n",
       "      <td>e</td>\n",
       "      <td>dABGVITQs6X1I4MdYGnX9zY59PpVM</td>\n",
       "      <td>Posted by News\\n\\nPixar Working On Sequels For...</td>\n",
       "      <td>1339.0</td>\n",
       "      <td>Posted by News  Pixar Working On Sequels For P...</td>\n",
       "      <td>[Posted by News  Pixar Working On Sequels For ...</td>\n",
       "    </tr>\n",
       "    <tr>\n",
       "      <th>3</th>\n",
       "      <td>22248</td>\n",
       "      <td>State Of The (Disney) Union: Cars 3, Incredibl...</td>\n",
       "      <td>Contactmusic.com</td>\n",
       "      <td>e</td>\n",
       "      <td>dABGVITQs6X1I4MdYGnX9zY59PpVM</td>\n",
       "      <td>In news you didn’t know you needed until right...</td>\n",
       "      <td>1737.0</td>\n",
       "      <td>In news you didn’t know you needed until right...</td>\n",
       "      <td>[In news you didn’t know you needed until righ...</td>\n",
       "    </tr>\n",
       "    <tr>\n",
       "      <th>4</th>\n",
       "      <td>22249</td>\n",
       "      <td>Disney Pixar confirm The Incredibles 2</td>\n",
       "      <td>Total Film</td>\n",
       "      <td>e</td>\n",
       "      <td>dABGVITQs6X1I4MdYGnX9zY59PpVM</td>\n",
       "      <td>The first footage from Incredibles 2 (there's ...</td>\n",
       "      <td>2942.0</td>\n",
       "      <td>The first footage from Incredibles 2  was show...</td>\n",
       "      <td>[The first footage from Incredibles 2  was sho...</td>\n",
       "    </tr>\n",
       "  </tbody>\n",
       "</table>\n",
       "</div>"
      ],
      "text/plain": [
       "      id                                              title  \\\n",
       "0  22237  The Incredibles 2, Cars 3 in the works, Disney...   \n",
       "1  22241  The Incredibles are set for another big-screen...   \n",
       "2  22244  Pixar Working On Sequels For Popular Animated ...   \n",
       "3  22248  State Of The (Disney) Union: Cars 3, Incredibl...   \n",
       "4  22249             Disney Pixar confirm The Incredibles 2   \n",
       "\n",
       "               publisher category                          story  \\\n",
       "0            Digital Spy        e  dABGVITQs6X1I4MdYGnX9zY59PpVM   \n",
       "1      Belfast Telegraph        e  dABGVITQs6X1I4MdYGnX9zY59PpVM   \n",
       "2  Online News Heard Now        e  dABGVITQs6X1I4MdYGnX9zY59PpVM   \n",
       "3       Contactmusic.com        e  dABGVITQs6X1I4MdYGnX9zY59PpVM   \n",
       "4             Total Film        e  dABGVITQs6X1I4MdYGnX9zY59PpVM   \n",
       "\n",
       "                                        main_content  main_content_len  \\\n",
       "0  The Incredibles 2 and Cars 3 are in developmen...            1340.0   \n",
       "1  Incredibles 2, Cars 3 in the works BelfastTele...            1620.0   \n",
       "2  Posted by News\\n\\nPixar Working On Sequels For...            1339.0   \n",
       "3  In news you didn’t know you needed until right...            1737.0   \n",
       "4  The first footage from Incredibles 2 (there's ...            2942.0   \n",
       "\n",
       "                                        Speech_clean  \\\n",
       "0  The Incredibles 2 and Cars 3 are in developmen...   \n",
       "1  Incredibles 2, Cars 3 in the works BelfastTele...   \n",
       "2  Posted by News  Pixar Working On Sequels For P...   \n",
       "3  In news you didn’t know you needed until right...   \n",
       "4  The first footage from Incredibles 2  was show...   \n",
       "\n",
       "                                                sent  \n",
       "0  [The Incredibles 2 and Cars 3 are in developme...  \n",
       "1  [Incredibles 2, Cars 3 in the works BelfastTel...  \n",
       "2  [Posted by News  Pixar Working On Sequels For ...  \n",
       "3  [In news you didn’t know you needed until righ...  \n",
       "4  [The first footage from Incredibles 2  was sho...  "
      ]
     },
     "execution_count": 4,
     "metadata": {},
     "output_type": "execute_result"
    }
   ],
   "source": [
    "# Dataframe\n",
    "df = pd.read_csv(r'.\\datasets_AI\\news.csv')\n",
    "df = df.drop(columns=['url', 'hostname', 'timestamp'], axis=1)\n",
    "df = df[df.story == 'dABGVITQs6X1I4MdYGnX9zY59PpVM']\n",
    "# clean speech\n",
    "df['Speech_clean'] = df['main_content'].apply(clean)\n",
    "\n",
    "#reset indices for removed stuff\n",
    "df.reset_index(inplace=True)\n",
    "df.drop(['Unnamed: 0', 'index'], axis = 1, inplace = True)\n",
    "\n",
    "df.head()"
   ]
  },
  {
   "cell_type": "code",
   "execution_count": 5,
   "metadata": {},
   "outputs": [
    {
     "data": {
      "text/html": [
       "<div>\n",
       "<style scoped>\n",
       "    .dataframe tbody tr th:only-of-type {\n",
       "        vertical-align: middle;\n",
       "    }\n",
       "\n",
       "    .dataframe tbody tr th {\n",
       "        vertical-align: top;\n",
       "    }\n",
       "\n",
       "    .dataframe thead th {\n",
       "        text-align: right;\n",
       "    }\n",
       "</style>\n",
       "<table border=\"1\" class=\"dataframe\">\n",
       "  <thead>\n",
       "    <tr style=\"text-align: right;\">\n",
       "      <th></th>\n",
       "      <th>id</th>\n",
       "      <th>sent</th>\n",
       "      <th>len</th>\n",
       "    </tr>\n",
       "  </thead>\n",
       "  <tbody>\n",
       "    <tr>\n",
       "      <th>0</th>\n",
       "      <td>22237</td>\n",
       "      <td>The Incredibles 2 and Cars 3 are in developmen...</td>\n",
       "      <td>224</td>\n",
       "    </tr>\n",
       "    <tr>\n",
       "      <th>1</th>\n",
       "      <td>22241</td>\n",
       "      <td>Incredibles 2, Cars 3 in the works BelfastTele...</td>\n",
       "      <td>239</td>\n",
       "    </tr>\n",
       "    <tr>\n",
       "      <th>2</th>\n",
       "      <td>22244</td>\n",
       "      <td>Posted by News  Pixar Working On Sequels For P...</td>\n",
       "      <td>227</td>\n",
       "    </tr>\n",
       "    <tr>\n",
       "      <th>3</th>\n",
       "      <td>22248</td>\n",
       "      <td>In news you didn’t know you needed until right...</td>\n",
       "      <td>306</td>\n",
       "    </tr>\n",
       "    <tr>\n",
       "      <th>4</th>\n",
       "      <td>22249</td>\n",
       "      <td>The first footage from Incredibles 2  was show...</td>\n",
       "      <td>503</td>\n",
       "    </tr>\n",
       "  </tbody>\n",
       "</table>\n",
       "</div>"
      ],
      "text/plain": [
       "      id                                               sent  len\n",
       "0  22237  The Incredibles 2 and Cars 3 are in developmen...  224\n",
       "1  22241  Incredibles 2, Cars 3 in the works BelfastTele...  239\n",
       "2  22244  Posted by News  Pixar Working On Sequels For P...  227\n",
       "3  22248  In news you didn’t know you needed until right...  306\n",
       "4  22249  The first footage from Incredibles 2  was show...  503"
      ]
     },
     "execution_count": 5,
     "metadata": {},
     "output_type": "execute_result"
    }
   ],
   "source": [
    "df2 = pd.DataFrame(columns=['sent','id','len'])\n",
    "\n",
    "row_list = []\n",
    "\n",
    "for i in range(len(df)):\n",
    "    for sent in df.at[i,'sent']:\n",
    "    \n",
    "        wordcount = len(sent.split())\n",
    "        id = df.at[i,'id']\n",
    "\n",
    "        dict1 = {'id' : id, 'sent' : sent, 'len' : wordcount}\n",
    "        row_list.append(dict1)\n",
    "    \n",
    "\n",
    "df2 = pd.DataFrame(row_list)\n",
    "df2.head()"
   ]
  },
  {
   "cell_type": "code",
   "execution_count": 6,
   "metadata": {},
   "outputs": [],
   "source": [
    "nlp = spacy.load('en_core_web_md')"
   ]
  },
  {
   "cell_type": "code",
   "execution_count": 7,
   "metadata": {},
   "outputs": [
    {
     "data": {
      "text/plain": [
       "[(This is going to make a lot of people very happy. One of Pixar’s finest is getting a new sequel.  That’s right. Cars 3 is on the way. The studio will also be tossing out Incredibles 2. Don’t know who’s going to care too much about that, except toy store owners.  Okay, maybe I’ve gotten my wires crossed.  In all honesty, I’m excited about any new Pixar film and I’m not going to dismiss a Cars 3 out of hand. It’s not like I don’t enjoy the first two, either. As much as The Incredibles? Okay, no. But enough.  Robert Iger gave word of both sequels during an investor’s conference call this afternoon. He didn’t say who would be directing either picture, but a lot of folk will be assuming Brad Bird will be back for the Incredibles sequel.  Or maybe it will be Teddy Newton…  UPDATE: Iger also said that Brad Bird is working on the film’s story now. I guess it is likely to be him directing, then…?  Anyway, official word of the creatives involved will be along soon, I hope. I’d also expect some release dates, at least temporary ones.   Related Posts    Related Posts  None found,\n",
       "  Ten years ago, we got one of the greatest superhero movies of all time from the folks at Pixar. It remains not only one of Pixar crowning achievements, but also the pinnacle of comc book superhero fun that all movies of the genre should aspire to.  Today Disney CEO Bob Iger announced a sequel to The Incredibles. . . and another shameless money grab in the development of Cars 3.  No word yet on directors, release date, or anything else, but this is enough to get every geek very, very happy.  So, what can we expect? Well, presumably, Pixar would consider bringing back Brad Bird, who helmed the first film and certainly is responsible for much of its quality. No official word from him and he hasn't tweeted anything from his official Twitter today.  Bird is currently busy with Tomorrowland, but assuming that wraps up soon, a next logical project would be an Incredibles sequel.  As for cast to return, that anyone guess. I think you'd definitely have to reunite the original main family. So, look for confirmations from Craig T Nelson, Holly Hunter, and  Sarah Vowell sometime soon.  I'd hope we could see more of Samuel L. Jackson as Frozone and, of course, Brad Bird himself as Edna , but I'd bet against bringing back Jason Lee as Syndrome   The other part of this news is Cars 3, which I'm sure will be of similar quality as Cars 2 and Planes, yet have the magical ability to sell billions in merchandizing. So, it a no brainer. But, please, I beg you, people at Pixar    no more 'Mater! Both Cars 2 and the original had been the pet projects of John Lasseter, now head of Disney Animation. So it will be interesting to see who they bring in to helm this. Frankly, I'm sick of paint by numbers Pixar sequels, the most of egregious of which have been from the Cars franchise. What would really be a miracle is if they can make some real magic here.  But seriously, this is all about The Incredibles. What do you robots want to see? Should they start right where the last movie left off, and fight The Underminer? Should they age up Dash and Jack Jack? Leave us your ideas in the comments section!  Previous Post: STAR WARS: 'Episode VII' Info  Next Post: BUFFY BINGE: Season 1  Tags:),\n",
       " 0.9935369179431389]"
      ]
     },
     "execution_count": 7,
     "metadata": {},
     "output_type": "execute_result"
    }
   ],
   "source": [
    "p = df2['sent'].tolist()\n",
    "docx = nlp(p[np.random.randint(1, len(df2))])\n",
    "docy = nlp(p[np.random.randint(1, len(df2))])\n",
    "x = docx.similarity(docy)\n",
    "\n",
    "[(docx, docy), x]"
   ]
  },
  {
   "cell_type": "code",
   "execution_count": 8,
   "metadata": {},
   "outputs": [],
   "source": [
    "def dictfy(d1, t1):\n",
    "    sendict = dict()\n",
    "    for key in t1:\n",
    "        sendict[key] = []\n",
    "        for word in d1:\n",
    "            if word.label_ == key:\n",
    "                sendict[key].append(str(word).lower().strip())\n",
    "    for key in sendict.keys():\n",
    "        sendict[key] = list(set(sendict[key]))\n",
    "    return sendict\n"
   ]
  },
  {
   "cell_type": "code",
   "execution_count": 9,
   "metadata": {},
   "outputs": [
    {
     "name": "stdout",
     "output_type": "stream",
     "text": [
      "[{'CARDINAL': ['two', 'one'], 'ORG': ['pixar', 'incredibles'], 'PRODUCT': ['incredibles 2'], 'ORDINAL': ['first'], 'PERSON': ['iger', 'robert iger', 'brad bird', 'teddy newton'], 'TIME': ['this afternoon'], 'VERB': [assuming, getting, going, going, tossing, directing, going, directing, working]}, {'DATE': ['today', 'ten years ago', 'season 1'], 'ORG': ['pixar', 'cars', 'tomorrowland', 'underminer', 'incredibles', 'disney animation'], 'PERSON': ['john lasseter', 'pixar', 'bob iger', 'jack jack', 'buffy binge', 'holly hunter', 'brad bird', 'craig t nelson', 'sarah vowell', 'jason lee', 'samuel l. jackson', 'edna'], 'ORDINAL': ['first'], 'PRODUCT': ['cars 2'], 'CARDINAL': ['billions'], 'VERB': [bringing, assuming, bringing]}] 0.9935369179431389\n"
     ]
    }
   ],
   "source": [
    "if x > 0.925:\n",
    "    x1 = dictfy([ent for ent in docx.ents], [ent.label_ for ent in docx.ents])\n",
    "    xres = filter(lambda x: x.tag_ == 'VBG', docx)\n",
    "    x1['VERB'] = list(set(xres))\n",
    "    y1 = dictfy([ent for ent in docy.ents], [ent.label_ for ent in docy.ents])\n",
    "    yres = filter(lambda y: y.tag_ == 'VBG', docy)\n",
    "    y1['VERB'] = list(set(yres))\n",
    "    print([x1, y1], x)\n",
    "else:\n",
    "    print([(docx, docy), x], \"sentences not similar enough\")\n",
    "\n",
    "# [[ent.text, ent.label_] for ent in docy.ents]"
   ]
  },
  {
   "cell_type": "code",
   "execution_count": null,
   "metadata": {},
   "outputs": [],
   "source": []
  }
 ],
 "metadata": {
  "interpreter": {
   "hash": "30e0093a970397ed409900a398af9a89913422676cb23e3d71f945f13aa175f8"
  },
  "kernelspec": {
   "display_name": "Python 3.9.12 64-bit (windows store)",
   "language": "python",
   "name": "python3"
  },
  "language_info": {
   "codemirror_mode": {
    "name": "ipython",
    "version": 3
   },
   "file_extension": ".py",
   "mimetype": "text/x-python",
   "name": "python",
   "nbconvert_exporter": "python",
   "pygments_lexer": "ipython3",
   "version": "3.9.13"
  },
  "orig_nbformat": 4
 },
 "nbformat": 4,
 "nbformat_minor": 2
}
