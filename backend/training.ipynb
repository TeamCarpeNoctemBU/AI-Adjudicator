{
 "cells": [
  {
   "cell_type": "code",
   "execution_count": 86,
   "metadata": {},
   "outputs": [],
   "source": [
    "import re\n",
    "import pandas as pd\n",
    "import numpy as np\n",
    "import spacy"
   ]
  },
  {
   "cell_type": "code",
   "execution_count": 87,
   "metadata": {},
   "outputs": [],
   "source": [
    "def clean(text): \n",
    "    text = re.sub('[0-9]+.\\t' + '...','',str(text))\n",
    "    text = re.sub('\\n ','',str(text))\n",
    "    text = re.sub('\\n',' ',str(text))\n",
    "    text = re.sub(\"'s\",'',str(text))\n",
    "    text = re.sub(\"-\",' ',str(text))\n",
    "    text = re.sub(\"— \",'',str(text))\n",
    "    text = re.sub('\\\"','',str(text))\n",
    "    text = re.sub(\"Mr\\.\",'Mr',str(text))\n",
    "    text = re.sub(\"Mrs\\.\",'Mrs',str(text))\n",
    "    text = re.sub(\"[\\(\\[].*?[\\)\\]]\", \"\", str(text))\n",
    "    return text"
   ]
  },
  {
   "cell_type": "code",
   "execution_count": 88,
   "metadata": {},
   "outputs": [],
   "source": [
    "def sentences(text):\n",
    "    text = re.split('[.?!]', text)\n",
    "    clean_sent = []\n",
    "    for sent in text:\n",
    "        clean_sent.append(sent)\n",
    "    return clean_sent"
   ]
  },
  {
   "cell_type": "code",
   "execution_count": 89,
   "metadata": {},
   "outputs": [
    {
     "data": {
      "text/html": [
       "<div>\n",
       "<style scoped>\n",
       "    .dataframe tbody tr th:only-of-type {\n",
       "        vertical-align: middle;\n",
       "    }\n",
       "\n",
       "    .dataframe tbody tr th {\n",
       "        vertical-align: top;\n",
       "    }\n",
       "\n",
       "    .dataframe thead th {\n",
       "        text-align: right;\n",
       "    }\n",
       "</style>\n",
       "<table border=\"1\" class=\"dataframe\">\n",
       "  <thead>\n",
       "    <tr style=\"text-align: right;\">\n",
       "      <th></th>\n",
       "      <th>id</th>\n",
       "      <th>title</th>\n",
       "      <th>publisher</th>\n",
       "      <th>category</th>\n",
       "      <th>story</th>\n",
       "      <th>main_content</th>\n",
       "      <th>main_content_len</th>\n",
       "      <th>Speech_clean</th>\n",
       "      <th>sent</th>\n",
       "    </tr>\n",
       "  </thead>\n",
       "  <tbody>\n",
       "    <tr>\n",
       "      <th>0</th>\n",
       "      <td>22237</td>\n",
       "      <td>The Incredibles 2, Cars 3 in the works, Disney...</td>\n",
       "      <td>Digital Spy</td>\n",
       "      <td>e</td>\n",
       "      <td>dABGVITQs6X1I4MdYGnX9zY59PpVM</td>\n",
       "      <td>The Incredibles 2 and Cars 3 are in developmen...</td>\n",
       "      <td>1340.0</td>\n",
       "      <td>The Incredibles 2 and Cars 3 are in developmen...</td>\n",
       "      <td>[The Incredibles 2 and Cars 3 are in developme...</td>\n",
       "    </tr>\n",
       "    <tr>\n",
       "      <th>1</th>\n",
       "      <td>22241</td>\n",
       "      <td>The Incredibles are set for another big-screen...</td>\n",
       "      <td>Belfast Telegraph</td>\n",
       "      <td>e</td>\n",
       "      <td>dABGVITQs6X1I4MdYGnX9zY59PpVM</td>\n",
       "      <td>Incredibles 2, Cars 3 in the works BelfastTele...</td>\n",
       "      <td>1620.0</td>\n",
       "      <td>Incredibles 2, Cars 3 in the works BelfastTele...</td>\n",
       "      <td>[Incredibles 2, Cars 3 in the works BelfastTel...</td>\n",
       "    </tr>\n",
       "    <tr>\n",
       "      <th>2</th>\n",
       "      <td>22244</td>\n",
       "      <td>Pixar Working On Sequels For Popular Animated ...</td>\n",
       "      <td>Online News Heard Now</td>\n",
       "      <td>e</td>\n",
       "      <td>dABGVITQs6X1I4MdYGnX9zY59PpVM</td>\n",
       "      <td>Posted by News\\n\\nPixar Working On Sequels For...</td>\n",
       "      <td>1339.0</td>\n",
       "      <td>Posted by News  Pixar Working On Sequels For P...</td>\n",
       "      <td>[Posted by News  Pixar Working On Sequels For ...</td>\n",
       "    </tr>\n",
       "    <tr>\n",
       "      <th>3</th>\n",
       "      <td>22248</td>\n",
       "      <td>State Of The (Disney) Union: Cars 3, Incredibl...</td>\n",
       "      <td>Contactmusic.com</td>\n",
       "      <td>e</td>\n",
       "      <td>dABGVITQs6X1I4MdYGnX9zY59PpVM</td>\n",
       "      <td>In news you didn’t know you needed until right...</td>\n",
       "      <td>1737.0</td>\n",
       "      <td>In news you didn’t know you needed until right...</td>\n",
       "      <td>[In news you didn’t know you needed until righ...</td>\n",
       "    </tr>\n",
       "    <tr>\n",
       "      <th>4</th>\n",
       "      <td>22249</td>\n",
       "      <td>Disney Pixar confirm The Incredibles 2</td>\n",
       "      <td>Total Film</td>\n",
       "      <td>e</td>\n",
       "      <td>dABGVITQs6X1I4MdYGnX9zY59PpVM</td>\n",
       "      <td>The first footage from Incredibles 2 (there's ...</td>\n",
       "      <td>2942.0</td>\n",
       "      <td>The first footage from Incredibles 2  was show...</td>\n",
       "      <td>[The first footage from Incredibles 2  was sho...</td>\n",
       "    </tr>\n",
       "  </tbody>\n",
       "</table>\n",
       "</div>"
      ],
      "text/plain": [
       "      id                                              title  \\\n",
       "0  22237  The Incredibles 2, Cars 3 in the works, Disney...   \n",
       "1  22241  The Incredibles are set for another big-screen...   \n",
       "2  22244  Pixar Working On Sequels For Popular Animated ...   \n",
       "3  22248  State Of The (Disney) Union: Cars 3, Incredibl...   \n",
       "4  22249             Disney Pixar confirm The Incredibles 2   \n",
       "\n",
       "               publisher category                          story  \\\n",
       "0            Digital Spy        e  dABGVITQs6X1I4MdYGnX9zY59PpVM   \n",
       "1      Belfast Telegraph        e  dABGVITQs6X1I4MdYGnX9zY59PpVM   \n",
       "2  Online News Heard Now        e  dABGVITQs6X1I4MdYGnX9zY59PpVM   \n",
       "3       Contactmusic.com        e  dABGVITQs6X1I4MdYGnX9zY59PpVM   \n",
       "4             Total Film        e  dABGVITQs6X1I4MdYGnX9zY59PpVM   \n",
       "\n",
       "                                        main_content  main_content_len  \\\n",
       "0  The Incredibles 2 and Cars 3 are in developmen...            1340.0   \n",
       "1  Incredibles 2, Cars 3 in the works BelfastTele...            1620.0   \n",
       "2  Posted by News\\n\\nPixar Working On Sequels For...            1339.0   \n",
       "3  In news you didn’t know you needed until right...            1737.0   \n",
       "4  The first footage from Incredibles 2 (there's ...            2942.0   \n",
       "\n",
       "                                        Speech_clean  \\\n",
       "0  The Incredibles 2 and Cars 3 are in developmen...   \n",
       "1  Incredibles 2, Cars 3 in the works BelfastTele...   \n",
       "2  Posted by News  Pixar Working On Sequels For P...   \n",
       "3  In news you didn’t know you needed until right...   \n",
       "4  The first footage from Incredibles 2  was show...   \n",
       "\n",
       "                                                sent  \n",
       "0  [The Incredibles 2 and Cars 3 are in developme...  \n",
       "1  [Incredibles 2, Cars 3 in the works BelfastTel...  \n",
       "2  [Posted by News  Pixar Working On Sequels For ...  \n",
       "3  [In news you didn’t know you needed until righ...  \n",
       "4  [The first footage from Incredibles 2  was sho...  "
      ]
     },
     "execution_count": 89,
     "metadata": {},
     "output_type": "execute_result"
    }
   ],
   "source": [
    "# Dataframe\n",
    "df = pd.read_csv(r'.\\datasets_AI\\news.csv')\n",
    "df = df.drop(columns=['url', 'hostname', 'timestamp'], axis=1)\n",
    "df = df[df.story == 'dABGVITQs6X1I4MdYGnX9zY59PpVM']\n",
    "# clean speech\n",
    "df['Speech_clean'] = df['main_content'].apply(clean)\n",
    "\n",
    "# seperate sentences\n",
    "df['sent'] = df['Speech_clean'].apply(sentences)\n",
    "\n",
    "#reset indices for removed stuff\n",
    "df.reset_index(inplace=True)\n",
    "df.drop(['Unnamed: 0', 'index'], axis = 1, inplace = True)\n",
    "\n",
    "df.head()"
   ]
  },
  {
   "cell_type": "code",
   "execution_count": 90,
   "metadata": {},
   "outputs": [
    {
     "data": {
      "text/html": [
       "<div>\n",
       "<style scoped>\n",
       "    .dataframe tbody tr th:only-of-type {\n",
       "        vertical-align: middle;\n",
       "    }\n",
       "\n",
       "    .dataframe tbody tr th {\n",
       "        vertical-align: top;\n",
       "    }\n",
       "\n",
       "    .dataframe thead th {\n",
       "        text-align: right;\n",
       "    }\n",
       "</style>\n",
       "<table border=\"1\" class=\"dataframe\">\n",
       "  <thead>\n",
       "    <tr style=\"text-align: right;\">\n",
       "      <th></th>\n",
       "      <th>id</th>\n",
       "      <th>sent</th>\n",
       "      <th>len</th>\n",
       "    </tr>\n",
       "  </thead>\n",
       "  <tbody>\n",
       "    <tr>\n",
       "      <th>0</th>\n",
       "      <td>22237</td>\n",
       "      <td>The Incredibles 2 and Cars 3 are in developmen...</td>\n",
       "      <td>12</td>\n",
       "    </tr>\n",
       "    <tr>\n",
       "      <th>1</th>\n",
       "      <td>22237</td>\n",
       "      <td>The movie sequels were confirmed by Disney P...</td>\n",
       "      <td>11</td>\n",
       "    </tr>\n",
       "    <tr>\n",
       "      <th>2</th>\n",
       "      <td>22237</td>\n",
       "      <td>Advertisement   Continue Reading Below    Ig...</td>\n",
       "      <td>30</td>\n",
       "    </tr>\n",
       "    <tr>\n",
       "      <th>3</th>\n",
       "      <td>22237</td>\n",
       "      <td>Pixar is also currently working on Finding N...</td>\n",
       "      <td>17</td>\n",
       "    </tr>\n",
       "    <tr>\n",
       "      <th>4</th>\n",
       "      <td>22237</td>\n",
       "      <td>Meanwhile, yesterday it was reported that Pi...</td>\n",
       "      <td>15</td>\n",
       "    </tr>\n",
       "  </tbody>\n",
       "</table>\n",
       "</div>"
      ],
      "text/plain": [
       "      id                                               sent  len\n",
       "0  22237  The Incredibles 2 and Cars 3 are in developmen...   12\n",
       "1  22237    The movie sequels were confirmed by Disney P...   11\n",
       "2  22237    Advertisement   Continue Reading Below    Ig...   30\n",
       "3  22237    Pixar is also currently working on Finding N...   17\n",
       "4  22237    Meanwhile, yesterday it was reported that Pi...   15"
      ]
     },
     "execution_count": 90,
     "metadata": {},
     "output_type": "execute_result"
    }
   ],
   "source": [
    "df2 = pd.DataFrame(columns=['sent','id','len'])\n",
    "\n",
    "row_list = []\n",
    "\n",
    "for i in range(len(df)):\n",
    "    for sent in df.at[i,'sent']:\n",
    "    \n",
    "        wordcount = len(sent.split())\n",
    "        id = df.at[i,'id']\n",
    "\n",
    "        dict1 = {'id' : id, 'sent' : sent, 'len' : wordcount}\n",
    "        row_list.append(dict1)\n",
    "    \n",
    "\n",
    "df2 = pd.DataFrame(row_list)\n",
    "df2.head()"
   ]
  },
  {
   "cell_type": "code",
   "execution_count": 91,
   "metadata": {},
   "outputs": [],
   "source": [
    "nlp = spacy.load('en_core_web_md')"
   ]
  },
  {
   "cell_type": "code",
   "execution_count": 92,
   "metadata": {},
   "outputs": [
    {
     "data": {
      "text/plain": [
       "[( The film performed very well at the box office, grossing $631 million worldwide during its original theatrical run,\n",
       "   Brad Bird has remained open to the possibility of directing a follow up, but has said that he’d only do it if he could honor the original),\n",
       " 0.834841800489626]"
      ]
     },
     "execution_count": 92,
     "metadata": {},
     "output_type": "execute_result"
    }
   ],
   "source": [
    "p = df2['sent'].tolist()\n",
    "docx = nlp(p[np.random.randint(1, len(df2))])\n",
    "docy = nlp(p[np.random.randint(1, len(df2))])\n",
    "x = docx.similarity(docy)\n",
    "\n",
    "[(docx, docy), x]"
   ]
  },
  {
   "cell_type": "code",
   "execution_count": 93,
   "metadata": {},
   "outputs": [],
   "source": [
    "def dictfy(d1, t1):\n",
    "    sendict = dict()\n",
    "    for key in t1:\n",
    "        sendict[key] = []\n",
    "        for word in d1:\n",
    "            if word.dep_ == key:\n",
    "                sendict[key].append(str(word).lower())\n",
    "    return sendict\n"
   ]
  },
  {
   "cell_type": "code",
   "execution_count": 94,
   "metadata": {},
   "outputs": [],
   "source": [
    "def filter(x1):\n",
    "    pq = list(x1.keys())\n",
    "    for key in pq:\n",
    "        if ('obj' not in key) and ('subj' not in key):\n",
    "            x1.pop(key)"
   ]
  },
  {
   "cell_type": "code",
   "execution_count": 95,
   "metadata": {},
   "outputs": [
    {
     "name": "stdout",
     "output_type": "stream",
     "text": [
      "{'dep': [' '], 'pobj': ['office', 'run'], 'advcl': ['grossing'], 'poss': ['its'], 'dobj': ['million'], 'advmod': ['very', 'well', 'worldwide'], 'compound': ['box', '631'], 'amod': ['original', 'theatrical'], 'det': ['the', 'the'], 'quantmod': ['$'], 'prep': ['at', 'during'], 'nsubj': ['film'], 'punct': [','], 'ROOT': ['performed']} {'cc': ['but'], 'pobj': ['possibility'], 'dobj': ['follow', 'it', 'original'], 'compound': ['brad'], 'nsubj': ['bird', 'he', 'he'], 'ROOT': ['remained'], 'dep': [' '], 'conj': ['said'], 'ccomp': ['do'], 'punct': [','], 'prt': ['up'], 'advcl': ['honor'], 'advmod': ['only'], 'pcomp': ['directing'], 'det': ['the', 'a', 'the'], 'acomp': ['open'], 'aux': ['has', 'has', '’d', 'could'], 'mark': ['that', 'if'], 'prep': ['to', 'of']}\n"
     ]
    }
   ],
   "source": [
    "if x > 0.825:\n",
    "    d1 = dictfy(docx, set([token.dep_ for token in docx]))\n",
    "    d2 = dictfy(docy, set([token.dep_ for token in docy]))\n",
    "    print(d1, d2)\n",
    "else:\n",
    "    print([(docx, docy), x], \"sentences not similar enough\")"
   ]
  },
  {
   "cell_type": "code",
   "execution_count": 96,
   "metadata": {},
   "outputs": [
    {
     "name": "stdout",
     "output_type": "stream",
     "text": [
      "{'pobj': ['office', 'run'], 'dobj': ['million'], 'nsubj': ['film']} {'pobj': ['possibility'], 'dobj': ['follow', 'it', 'original'], 'nsubj': ['bird', 'he', 'he']}\n"
     ]
    }
   ],
   "source": [
    "filter(d1)\n",
    "filter(d2)\n",
    "print(d1, d2)"
   ]
  }
 ],
 "metadata": {
  "interpreter": {
   "hash": "30e0093a970397ed409900a398af9a89913422676cb23e3d71f945f13aa175f8"
  },
  "kernelspec": {
   "display_name": "Python 3.9.12 64-bit (windows store)",
   "language": "python",
   "name": "python3"
  },
  "language_info": {
   "codemirror_mode": {
    "name": "ipython",
    "version": 3
   },
   "file_extension": ".py",
   "mimetype": "text/x-python",
   "name": "python",
   "nbconvert_exporter": "python",
   "pygments_lexer": "ipython3",
   "version": "3.9.13"
  },
  "orig_nbformat": 4
 },
 "nbformat": 4,
 "nbformat_minor": 2
}
