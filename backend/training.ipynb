{
 "cells": [
  {
   "cell_type": "markdown",
   "metadata": {},
   "source": [
    "Welcome to the IPYNB of this project. This file is merely a show of proof of what we did to understand and use NLP to the best of our abilities. Most of this code is made functional in the backbone.py file. "
   ]
  },
  {
   "cell_type": "code",
   "execution_count": 5,
   "metadata": {},
   "outputs": [],
   "source": [
    "# importing all required libraries\n",
    "import re\n",
    "import pandas as pd\n",
    "import numpy as np\n",
    "import spacy"
   ]
  },
  {
   "cell_type": "markdown",
   "metadata": {},
   "source": [
    "next, we create a function that consolidates all the required preprocessing into one function that can be applied onto a DataFrame."
   ]
  },
  {
   "cell_type": "code",
   "execution_count": 6,
   "metadata": {},
   "outputs": [],
   "source": [
    "def clean(text): \n",
    "    text = re.sub('[0-9]+.\\t' + '...','',str(text))\n",
    "    text = re.sub('\\n ','',str(text))\n",
    "    text = re.sub('\\n',' ',str(text))\n",
    "    text = re.sub(\"'s\",'',str(text))\n",
    "    text = re.sub(\"-\",' ',str(text))\n",
    "    text = re.sub(\"—\",'',str(text))\n",
    "    text = re.sub('\\\"','',str(text))\n",
    "    text = re.sub(\"Mr\\.\",'Mr',str(text))\n",
    "    text = re.sub(\"Mrs\\.\",'Mrs',str(text))\n",
    "    text = re.sub(\"[\\(\\[].*?[\\)\\]]\", \"\", str(text))\n",
    "    text = re.sub(r'^https?:\\/\\/.*[\\r\\n]*', '', text, flags=re.MULTILINE)\n",
    "    return [text]"
   ]
  },
  {
   "cell_type": "markdown",
   "metadata": {},
   "source": [
    "Getting the dataset, and filtering out the data we will not need."
   ]
  },
  {
   "cell_type": "code",
   "execution_count": 7,
   "metadata": {},
   "outputs": [
    {
     "data": {
      "text/html": [
       "<div>\n",
       "<style scoped>\n",
       "    .dataframe tbody tr th:only-of-type {\n",
       "        vertical-align: middle;\n",
       "    }\n",
       "\n",
       "    .dataframe tbody tr th {\n",
       "        vertical-align: top;\n",
       "    }\n",
       "\n",
       "    .dataframe thead th {\n",
       "        text-align: right;\n",
       "    }\n",
       "</style>\n",
       "<table border=\"1\" class=\"dataframe\">\n",
       "  <thead>\n",
       "    <tr style=\"text-align: right;\">\n",
       "      <th></th>\n",
       "      <th>id</th>\n",
       "      <th>title</th>\n",
       "      <th>publisher</th>\n",
       "      <th>category</th>\n",
       "      <th>story</th>\n",
       "      <th>main_content</th>\n",
       "      <th>main_content_len</th>\n",
       "      <th>Speech_clean</th>\n",
       "    </tr>\n",
       "  </thead>\n",
       "  <tbody>\n",
       "    <tr>\n",
       "      <th>0</th>\n",
       "      <td>22237</td>\n",
       "      <td>The Incredibles 2, Cars 3 in the works, Disney...</td>\n",
       "      <td>Digital Spy</td>\n",
       "      <td>e</td>\n",
       "      <td>dABGVITQs6X1I4MdYGnX9zY59PpVM</td>\n",
       "      <td>The Incredibles 2 and Cars 3 are in developmen...</td>\n",
       "      <td>1340.0</td>\n",
       "      <td>[The Incredibles 2 and Cars 3 are in developme...</td>\n",
       "    </tr>\n",
       "    <tr>\n",
       "      <th>1</th>\n",
       "      <td>22241</td>\n",
       "      <td>The Incredibles are set for another big-screen...</td>\n",
       "      <td>Belfast Telegraph</td>\n",
       "      <td>e</td>\n",
       "      <td>dABGVITQs6X1I4MdYGnX9zY59PpVM</td>\n",
       "      <td>Incredibles 2, Cars 3 in the works BelfastTele...</td>\n",
       "      <td>1620.0</td>\n",
       "      <td>[Incredibles 2, Cars 3 in the works BelfastTel...</td>\n",
       "    </tr>\n",
       "    <tr>\n",
       "      <th>2</th>\n",
       "      <td>22244</td>\n",
       "      <td>Pixar Working On Sequels For Popular Animated ...</td>\n",
       "      <td>Online News Heard Now</td>\n",
       "      <td>e</td>\n",
       "      <td>dABGVITQs6X1I4MdYGnX9zY59PpVM</td>\n",
       "      <td>Posted by News\\n\\nPixar Working On Sequels For...</td>\n",
       "      <td>1339.0</td>\n",
       "      <td>[Posted by News  Pixar Working On Sequels For ...</td>\n",
       "    </tr>\n",
       "    <tr>\n",
       "      <th>3</th>\n",
       "      <td>22248</td>\n",
       "      <td>State Of The (Disney) Union: Cars 3, Incredibl...</td>\n",
       "      <td>Contactmusic.com</td>\n",
       "      <td>e</td>\n",
       "      <td>dABGVITQs6X1I4MdYGnX9zY59PpVM</td>\n",
       "      <td>In news you didn’t know you needed until right...</td>\n",
       "      <td>1737.0</td>\n",
       "      <td>[In news you didn’t know you needed until righ...</td>\n",
       "    </tr>\n",
       "    <tr>\n",
       "      <th>4</th>\n",
       "      <td>22249</td>\n",
       "      <td>Disney Pixar confirm The Incredibles 2</td>\n",
       "      <td>Total Film</td>\n",
       "      <td>e</td>\n",
       "      <td>dABGVITQs6X1I4MdYGnX9zY59PpVM</td>\n",
       "      <td>The first footage from Incredibles 2 (there's ...</td>\n",
       "      <td>2942.0</td>\n",
       "      <td>[The first footage from Incredibles 2  was sho...</td>\n",
       "    </tr>\n",
       "  </tbody>\n",
       "</table>\n",
       "</div>"
      ],
      "text/plain": [
       "      id                                              title  \\\n",
       "0  22237  The Incredibles 2, Cars 3 in the works, Disney...   \n",
       "1  22241  The Incredibles are set for another big-screen...   \n",
       "2  22244  Pixar Working On Sequels For Popular Animated ...   \n",
       "3  22248  State Of The (Disney) Union: Cars 3, Incredibl...   \n",
       "4  22249             Disney Pixar confirm The Incredibles 2   \n",
       "\n",
       "               publisher category                          story  \\\n",
       "0            Digital Spy        e  dABGVITQs6X1I4MdYGnX9zY59PpVM   \n",
       "1      Belfast Telegraph        e  dABGVITQs6X1I4MdYGnX9zY59PpVM   \n",
       "2  Online News Heard Now        e  dABGVITQs6X1I4MdYGnX9zY59PpVM   \n",
       "3       Contactmusic.com        e  dABGVITQs6X1I4MdYGnX9zY59PpVM   \n",
       "4             Total Film        e  dABGVITQs6X1I4MdYGnX9zY59PpVM   \n",
       "\n",
       "                                        main_content  main_content_len  \\\n",
       "0  The Incredibles 2 and Cars 3 are in developmen...            1340.0   \n",
       "1  Incredibles 2, Cars 3 in the works BelfastTele...            1620.0   \n",
       "2  Posted by News\\n\\nPixar Working On Sequels For...            1339.0   \n",
       "3  In news you didn’t know you needed until right...            1737.0   \n",
       "4  The first footage from Incredibles 2 (there's ...            2942.0   \n",
       "\n",
       "                                        Speech_clean  \n",
       "0  [The Incredibles 2 and Cars 3 are in developme...  \n",
       "1  [Incredibles 2, Cars 3 in the works BelfastTel...  \n",
       "2  [Posted by News  Pixar Working On Sequels For ...  \n",
       "3  [In news you didn’t know you needed until righ...  \n",
       "4  [The first footage from Incredibles 2  was sho...  "
      ]
     },
     "execution_count": 7,
     "metadata": {},
     "output_type": "execute_result"
    }
   ],
   "source": [
    "# Dataframe\n",
    "df = pd.read_csv(r'.\\datasets_AI\\news.csv')\n",
    "df = df.drop(columns=['url', 'hostname', 'timestamp'], axis=1)\n",
    "df = df[df.story == 'dABGVITQs6X1I4MdYGnX9zY59PpVM']\n",
    "# clean speech\n",
    "df['Speech_clean'] = df['main_content'].apply(clean)\n",
    "\n",
    "#reset indices for removed stuff\n",
    "df.reset_index(inplace=True)\n",
    "df.drop(['Unnamed: 0', 'index'], axis = 1, inplace = True)\n",
    "\n",
    "df.head()"
   ]
  },
  {
   "cell_type": "markdown",
   "metadata": {},
   "source": [
    "this step is mostly redundant, we initially thought we would need multiple functions to preprocess our datasets properly."
   ]
  },
  {
   "cell_type": "code",
   "execution_count": 8,
   "metadata": {},
   "outputs": [
    {
     "data": {
      "text/html": [
       "<div>\n",
       "<style scoped>\n",
       "    .dataframe tbody tr th:only-of-type {\n",
       "        vertical-align: middle;\n",
       "    }\n",
       "\n",
       "    .dataframe tbody tr th {\n",
       "        vertical-align: top;\n",
       "    }\n",
       "\n",
       "    .dataframe thead th {\n",
       "        text-align: right;\n",
       "    }\n",
       "</style>\n",
       "<table border=\"1\" class=\"dataframe\">\n",
       "  <thead>\n",
       "    <tr style=\"text-align: right;\">\n",
       "      <th></th>\n",
       "      <th>id</th>\n",
       "      <th>sent</th>\n",
       "      <th>len</th>\n",
       "    </tr>\n",
       "  </thead>\n",
       "  <tbody>\n",
       "    <tr>\n",
       "      <th>0</th>\n",
       "      <td>22237</td>\n",
       "      <td>The Incredibles 2 and Cars 3 are in developmen...</td>\n",
       "      <td>224</td>\n",
       "    </tr>\n",
       "    <tr>\n",
       "      <th>1</th>\n",
       "      <td>22241</td>\n",
       "      <td>Incredibles 2, Cars 3 in the works BelfastTele...</td>\n",
       "      <td>239</td>\n",
       "    </tr>\n",
       "    <tr>\n",
       "      <th>2</th>\n",
       "      <td>22244</td>\n",
       "      <td>Posted by News  Pixar Working On Sequels For P...</td>\n",
       "      <td>227</td>\n",
       "    </tr>\n",
       "    <tr>\n",
       "      <th>3</th>\n",
       "      <td>22248</td>\n",
       "      <td>In news you didn’t know you needed until right...</td>\n",
       "      <td>306</td>\n",
       "    </tr>\n",
       "    <tr>\n",
       "      <th>4</th>\n",
       "      <td>22249</td>\n",
       "      <td>The first footage from Incredibles 2  was show...</td>\n",
       "      <td>503</td>\n",
       "    </tr>\n",
       "  </tbody>\n",
       "</table>\n",
       "</div>"
      ],
      "text/plain": [
       "      id                                               sent  len\n",
       "0  22237  The Incredibles 2 and Cars 3 are in developmen...  224\n",
       "1  22241  Incredibles 2, Cars 3 in the works BelfastTele...  239\n",
       "2  22244  Posted by News  Pixar Working On Sequels For P...  227\n",
       "3  22248  In news you didn’t know you needed until right...  306\n",
       "4  22249  The first footage from Incredibles 2  was show...  503"
      ]
     },
     "execution_count": 8,
     "metadata": {},
     "output_type": "execute_result"
    }
   ],
   "source": [
    "df2 = pd.DataFrame(columns=['sent','id','len'])\n",
    "\n",
    "row_list = []\n",
    "\n",
    "for i in range(len(df)):\n",
    "    for sent in df.at[i,'Speech_clean']:\n",
    "    \n",
    "        wordcount = len(sent.split())\n",
    "        id = df.at[i,'id']\n",
    "\n",
    "        dict1 = {'id' : id, 'sent' : sent, 'len' : wordcount}\n",
    "        row_list.append(dict1)\n",
    "    \n",
    "\n",
    "df2 = pd.DataFrame(row_list)\n",
    "df2.head()"
   ]
  },
  {
   "cell_type": "markdown",
   "metadata": {},
   "source": [
    "loading the spacy english model, the one which supports vectors so we get more accurate cosine similarities"
   ]
  },
  {
   "cell_type": "code",
   "execution_count": 9,
   "metadata": {},
   "outputs": [],
   "source": [
    "nlp = spacy.load('en_core_web_md')"
   ]
  },
  {
   "cell_type": "markdown",
   "metadata": {},
   "source": [
    "taking a random, small sample from our dataset. we don't need to train our model. so there's no need to have proper test/train sets."
   ]
  },
  {
   "cell_type": "code",
   "execution_count": 10,
   "metadata": {},
   "outputs": [
    {
     "data": {
      "text/plain": [
       "[(Pixar has announced that it is working on sequels to The Incredibles and Cars 2.  Disney CEO Bob Iger confirmed the news while speaking at the company shareholder meeting in Portland, Oregon.  No details of storyline or release dates have been revealed for the upcoming films.  The studio is also working on a Finding Nemo sequel, Finding Dory, as well as The Good Dinosaur and Inside Out.  However, with Finding Dory and The Good Dinosaur both being pushed back, 2014 will be Pixar first year without releasing a feature film since 2005.  The delays mean the gap between Pixar most recent release, Monsters University, and Inside Out is the longest period they've gone without a new movie since the original Incredibles  was followed by Cars in June 2006.  The most recent film in the Cars franchise, Cars 2, was released in 2011.  Pixar has also announced that a 3D version of 2007 Ratatouille is planned.  Toy Story and Toy Story 2 have previously been re released in 3D, as well as Finding Nemo and Monsters Inc.  Meanwhile, Disney and Lucasfilm have confirmed filming for Star Wars: Episode VII will start shooting at Pinewood Studios near London in May.  An online statement added that the latest instalment in the series would be set about 30 years after the events of Episode VI: Return of the Jedi.  The film, directed by JJ Abrams, is set to be released in cinemas on 18 December 2015.  Follow @BBCNewsbeat on Twitter,\n",
       "  Posted by News  Pixar Working On Sequels For Popular Animated Movies  Pixar recently announced it was currently working on the sequels to two popular animated movies: Cars 2 and The Incredibles.  Bob Iger, CEO of Disney, announced it while in a meeting with the company’s shareholders. No release dates or storyline details were revealed.  The studio is working on several other projects including: The Good Dinosaur, Inside Out and A Finding Nemo sequel “Finding Dory”. Both The Good Dinosaur and Finding Dory were pushed back, which makes 2014 being Pixar’s first year with no feature film release since 2005.  With the delays, there is a gap between Monsters University’s release and the release of Inside Out, which is the longest they’ve gone without a new movie since the Incredibles were released in 2004 and Cars was released in 2006. 2011 saw the release of Cars 2  Pixar said they would release a 3D version of Ratatouille, which was originally released in 2007. Finding Nemo, Monsters Inc., Toy Story and Toy Story 2 were also released in 3D.  Lucasfilm and Disney confirmed that filming for the long anticipated movie Star Wars: Episode VII will begin in May in London’s Pinewood Studios. It stated the movie would be 30 years after the Return of the Jedi event. It’s slated to be released Dec. 18, 2015.  Online News Heard Now),\n",
       " 0.994671072706162]"
      ]
     },
     "execution_count": 10,
     "metadata": {},
     "output_type": "execute_result"
    }
   ],
   "source": [
    "p = df2['sent'].tolist()\n",
    "docx = nlp(p[np.random.randint(1, len(df2))])\n",
    "docy = nlp(p[np.random.randint(1, len(df2))])\n",
    "x = docx.similarity(docy)\n",
    "\n",
    "[(docx, docy), x]"
   ]
  },
  {
   "cell_type": "markdown",
   "metadata": {},
   "source": [
    "define a function to convert our data into a dict."
   ]
  },
  {
   "cell_type": "code",
   "execution_count": 11,
   "metadata": {},
   "outputs": [],
   "source": [
    "def dictfy(d1, t1):\n",
    "    sendict = dict()\n",
    "    for key in t1:\n",
    "        sendict[key] = []\n",
    "        for word in d1:\n",
    "            if word.label_ == key:\n",
    "                sendict[key].append(str(word).lower().strip())\n",
    "    for key in sendict.keys():\n",
    "        sendict[key] = list(set(sendict[key]))\n",
    "    return sendict\n"
   ]
  },
  {
   "cell_type": "markdown",
   "metadata": {},
   "source": [
    "if the articles are not related at all, we simply do not find their intersections and deal with the data. the rest of this code has been perfected in backbone.py, but it does not have any comments due to lack of time."
   ]
  },
  {
   "cell_type": "code",
   "execution_count": 12,
   "metadata": {},
   "outputs": [
    {
     "name": "stdout",
     "output_type": "stream",
     "text": [
      "[{'ORG': ['pixar', 'inside out', 'monsters university', 'twitter', 'cars', 'monsters inc.', 'lucasfilm', 'incredibles', 'disney'], 'PERSON': ['jj abrams', 'nemo', 'bob iger'], 'GPE': ['oregon', 'portland', 'london'], 'DATE': ['about 30 years', '2014', '2011', 'may', 'june 2006', 'first year', '18 december 2015', '2005'], 'WORK_OF_ART': ['star wars'], 'FAC': ['pinewood studios'], 'VERB': [being, Finding, releasing, filming, working, working, shooting, speaking]}, {'CARDINAL': ['two', '2', '3d.'], 'ORG': ['pixar', 'inside out', 'nemo, monsters inc.', 'cars 2', 'monsters university’s', 'pinewood studios', 'lucasfilm', 'toy story and toy story 2', 'incredibles', 'disney'], 'PERSON': ['bob iger'], 'WORK_OF_ART': ['online news heard now', 'star wars', 'finding dory”'], 'DATE': ['2014', '2004', 'may', 'first year', '2006', '2007', 'dec. 18, 2015', '30 years', '2005'], 'GPE': ['london'], 'VERB': [being, filming, working, Finding, Finding, working, including]}] 0.994671072706162\n"
     ]
    }
   ],
   "source": [
    "if x > 0.925:\n",
    "    x1 = dictfy([ent for ent in docx.ents], [ent.label_ for ent in docx.ents])\n",
    "    xres = filter(lambda x: x.tag_ == 'VBG', docx)\n",
    "    x1['VERB'] = list(set(xres))\n",
    "    y1 = dictfy([ent for ent in docy.ents], [ent.label_ for ent in docy.ents])\n",
    "    yres = filter(lambda y: y.tag_ == 'VBG', docy)\n",
    "    y1['VERB'] = list(set(yres))\n",
    "    print([x1, y1], x)\n",
    "else:\n",
    "    print(\"sentences not similar enough\")\n",
    "\n",
    "# [[ent.text, ent.label_] for ent in docy.ents]"
   ]
  }
 ],
 "metadata": {
  "interpreter": {
   "hash": "30e0093a970397ed409900a398af9a89913422676cb23e3d71f945f13aa175f8"
  },
  "kernelspec": {
   "display_name": "Python 3.9.12 64-bit (windows store)",
   "language": "python",
   "name": "python3"
  },
  "language_info": {
   "codemirror_mode": {
    "name": "ipython",
    "version": 3
   },
   "file_extension": ".py",
   "mimetype": "text/x-python",
   "name": "python",
   "nbconvert_exporter": "python",
   "pygments_lexer": "ipython3",
   "version": "3.9.13"
  },
  "orig_nbformat": 4
 },
 "nbformat": 4,
 "nbformat_minor": 2
}
