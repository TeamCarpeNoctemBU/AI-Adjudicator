{
 "cells": [
  {
   "cell_type": "code",
   "execution_count": 379,
   "metadata": {},
   "outputs": [],
   "source": [
    "import re\n",
    "import pandas as pd\n",
    "import numpy as np\n",
    "import spacy"
   ]
  },
  {
   "cell_type": "code",
   "execution_count": 380,
   "metadata": {},
   "outputs": [],
   "source": [
    "def clean(text):\n",
    "    \n",
    "    text = re.sub('[0-9]+.\\t','',str(text))\n",
    "    text = re.sub('\\n ','',str(text))\n",
    "    text = re.sub('\\n',' ',str(text))\n",
    "    text = re.sub(\"'s\",'',str(text))\n",
    "    text = re.sub(\"-\",' ',str(text))\n",
    "    text = re.sub(\"— \",'',str(text))\n",
    "    text = re.sub('\\\"','',str(text))\n",
    "    text = re.sub(\"Mr\\.\",'Mr',str(text))\n",
    "    text = re.sub(\"Mrs\\.\",'Mrs',str(text))\n",
    "    text = re.sub(\"[\\(\\[].*?[\\)\\]]\", \"\", str(text))\n",
    "    \n",
    "    return text"
   ]
  },
  {
   "cell_type": "code",
   "execution_count": 381,
   "metadata": {},
   "outputs": [],
   "source": [
    "def sentences(text):\n",
    "    text = re.split('[.?!]', text)\n",
    "    clean_sent = []\n",
    "    for sent in text:\n",
    "        clean_sent.append(sent)\n",
    "    return clean_sent"
   ]
  },
  {
   "cell_type": "code",
   "execution_count": 382,
   "metadata": {},
   "outputs": [
    {
     "data": {
      "text/html": [
       "<div>\n",
       "<style scoped>\n",
       "    .dataframe tbody tr th:only-of-type {\n",
       "        vertical-align: middle;\n",
       "    }\n",
       "\n",
       "    .dataframe tbody tr th {\n",
       "        vertical-align: top;\n",
       "    }\n",
       "\n",
       "    .dataframe thead th {\n",
       "        text-align: right;\n",
       "    }\n",
       "</style>\n",
       "<table border=\"1\" class=\"dataframe\">\n",
       "  <thead>\n",
       "    <tr style=\"text-align: right;\">\n",
       "      <th></th>\n",
       "      <th>date</th>\n",
       "      <th>title</th>\n",
       "      <th>lang</th>\n",
       "      <th>words</th>\n",
       "      <th>text</th>\n",
       "      <th>Speech_clean</th>\n",
       "      <th>sent</th>\n",
       "    </tr>\n",
       "  </thead>\n",
       "  <tbody>\n",
       "    <tr>\n",
       "      <th>0</th>\n",
       "      <td>Aug 30, 2020</td>\n",
       "      <td>PM’s address in the 15th Episode of ‘Mann Ki B...</td>\n",
       "      <td>en</td>\n",
       "      <td>21619</td>\n",
       "      <td>My dear countrymen, Namaskar.\\nGenerally, this...</td>\n",
       "      <td>My dear countrymen, Namaskar. Generally, this ...</td>\n",
       "      <td>[My dear countrymen, Namaskar,  Generally, thi...</td>\n",
       "    </tr>\n",
       "    <tr>\n",
       "      <th>1</th>\n",
       "      <td>Aug 29, 2020</td>\n",
       "      <td>PM’s address at inauguration of the College an...</td>\n",
       "      <td>en</td>\n",
       "      <td>10128</td>\n",
       "      <td>Our country’s Agriculture Minister Shri Narend...</td>\n",
       "      <td>Our country’s Agriculture Minister Shri Narend...</td>\n",
       "      <td>[Our country’s Agriculture Minister Shri Naren...</td>\n",
       "    </tr>\n",
       "    <tr>\n",
       "      <th>2</th>\n",
       "      <td>Aug 27, 2020</td>\n",
       "      <td>PM’s address at seminar on Atmanirbhar Bharat ...</td>\n",
       "      <td>en</td>\n",
       "      <td>8497</td>\n",
       "      <td>My cabinet colleague, Shri Rajnath ji, Chief o...</td>\n",
       "      <td>My cabinet colleague, Shri Rajnath ji, Chief o...</td>\n",
       "      <td>[My cabinet colleague, Shri Rajnath ji, Chief ...</td>\n",
       "    </tr>\n",
       "    <tr>\n",
       "      <th>3</th>\n",
       "      <td>Aug 15, 2020</td>\n",
       "      <td>PM’s address to the Nation from the ramparts o...</td>\n",
       "      <td>en</td>\n",
       "      <td>50260</td>\n",
       "      <td>My dear countrymen,\\nCongratulations and many ...</td>\n",
       "      <td>My dear countrymen, Congratulations and many b...</td>\n",
       "      <td>[My dear countrymen, Congratulations and many ...</td>\n",
       "    </tr>\n",
       "    <tr>\n",
       "      <th>4</th>\n",
       "      <td>Aug 13, 2020</td>\n",
       "      <td>PM’s address at the Launch of ‘Transparent Tax...</td>\n",
       "      <td>en</td>\n",
       "      <td>11908</td>\n",
       "      <td>The process of Structural Reforms going on in ...</td>\n",
       "      <td>The process of Structural Reforms going on in ...</td>\n",
       "      <td>[The process of Structural Reforms going on in...</td>\n",
       "    </tr>\n",
       "  </tbody>\n",
       "</table>\n",
       "</div>"
      ],
      "text/plain": [
       "           date                                              title lang  \\\n",
       "0  Aug 30, 2020  PM’s address in the 15th Episode of ‘Mann Ki B...   en   \n",
       "1  Aug 29, 2020  PM’s address at inauguration of the College an...   en   \n",
       "2  Aug 27, 2020  PM’s address at seminar on Atmanirbhar Bharat ...   en   \n",
       "3  Aug 15, 2020  PM’s address to the Nation from the ramparts o...   en   \n",
       "4  Aug 13, 2020  PM’s address at the Launch of ‘Transparent Tax...   en   \n",
       "\n",
       "   words                                               text  \\\n",
       "0  21619  My dear countrymen, Namaskar.\\nGenerally, this...   \n",
       "1  10128  Our country’s Agriculture Minister Shri Narend...   \n",
       "2   8497  My cabinet colleague, Shri Rajnath ji, Chief o...   \n",
       "3  50260  My dear countrymen,\\nCongratulations and many ...   \n",
       "4  11908  The process of Structural Reforms going on in ...   \n",
       "\n",
       "                                        Speech_clean  \\\n",
       "0  My dear countrymen, Namaskar. Generally, this ...   \n",
       "1  Our country’s Agriculture Minister Shri Narend...   \n",
       "2  My cabinet colleague, Shri Rajnath ji, Chief o...   \n",
       "3  My dear countrymen, Congratulations and many b...   \n",
       "4  The process of Structural Reforms going on in ...   \n",
       "\n",
       "                                                sent  \n",
       "0  [My dear countrymen, Namaskar,  Generally, thi...  \n",
       "1  [Our country’s Agriculture Minister Shri Naren...  \n",
       "2  [My cabinet colleague, Shri Rajnath ji, Chief ...  \n",
       "3  [My dear countrymen, Congratulations and many ...  \n",
       "4  [The process of Structural Reforms going on in...  "
      ]
     },
     "execution_count": 382,
     "metadata": {},
     "output_type": "execute_result"
    }
   ],
   "source": [
    "# Dataframe\n",
    "df = pd.read_csv('.\\datasets_AI\\PM_Modi_speeches.csv')\n",
    "df = df.drop(columns=['url'], axis=1)\n",
    "df = df[df.lang == 'en']\n",
    "\n",
    "# clean speech\n",
    "df['Speech_clean'] = df['text'].apply(clean)\n",
    "\n",
    "# seperate sentences\n",
    "df['sent'] = df['Speech_clean'].apply(sentences)\n",
    "\n",
    "#reset indices for removed stuff\n",
    "df.reset_index(inplace=True)\n",
    "df.drop(['index'], axis = 1, inplace = True)\n",
    "\n",
    "df.head()"
   ]
  },
  {
   "cell_type": "code",
   "execution_count": 383,
   "metadata": {},
   "outputs": [
    {
     "data": {
      "text/html": [
       "<div>\n",
       "<style scoped>\n",
       "    .dataframe tbody tr th:only-of-type {\n",
       "        vertical-align: middle;\n",
       "    }\n",
       "\n",
       "    .dataframe tbody tr th {\n",
       "        vertical-align: top;\n",
       "    }\n",
       "\n",
       "    .dataframe thead th {\n",
       "        text-align: right;\n",
       "    }\n",
       "</style>\n",
       "<table border=\"1\" class=\"dataframe\">\n",
       "  <thead>\n",
       "    <tr style=\"text-align: right;\">\n",
       "      <th></th>\n",
       "      <th>date</th>\n",
       "      <th>sent</th>\n",
       "      <th>len</th>\n",
       "    </tr>\n",
       "  </thead>\n",
       "  <tbody>\n",
       "    <tr>\n",
       "      <th>0</th>\n",
       "      <td>Aug 30, 2020</td>\n",
       "      <td>My dear countrymen, Namaskar</td>\n",
       "      <td>4</td>\n",
       "    </tr>\n",
       "    <tr>\n",
       "      <th>1</th>\n",
       "      <td>Aug 30, 2020</td>\n",
       "      <td>Generally, this period is full of festivals; ...</td>\n",
       "      <td>20</td>\n",
       "    </tr>\n",
       "    <tr>\n",
       "      <th>2</th>\n",
       "      <td>Aug 30, 2020</td>\n",
       "      <td>During these times of Corona crises, on the o...</td>\n",
       "      <td>31</td>\n",
       "    </tr>\n",
       "    <tr>\n",
       "      <th>3</th>\n",
       "      <td>Aug 30, 2020</td>\n",
       "      <td>Broadly speaking in a way, there is a feeling...</td>\n",
       "      <td>13</td>\n",
       "    </tr>\n",
       "    <tr>\n",
       "      <th>4</th>\n",
       "      <td>Aug 30, 2020</td>\n",
       "      <td>People are getting along with their day to da...</td>\n",
       "      <td>19</td>\n",
       "    </tr>\n",
       "  </tbody>\n",
       "</table>\n",
       "</div>"
      ],
      "text/plain": [
       "           date                                               sent  len\n",
       "0  Aug 30, 2020                       My dear countrymen, Namaskar    4\n",
       "1  Aug 30, 2020   Generally, this period is full of festivals; ...   20\n",
       "2  Aug 30, 2020   During these times of Corona crises, on the o...   31\n",
       "3  Aug 30, 2020   Broadly speaking in a way, there is a feeling...   13\n",
       "4  Aug 30, 2020   People are getting along with their day to da...   19"
      ]
     },
     "execution_count": 383,
     "metadata": {},
     "output_type": "execute_result"
    }
   ],
   "source": [
    "df2 = pd.DataFrame(columns=['sent','date','len'])\n",
    "\n",
    "row_list = []\n",
    "\n",
    "for i in range(len(df)):\n",
    "    for sent in df.at[i,'sent']:\n",
    "    \n",
    "        wordcount = len(sent.split())\n",
    "        date = df.at[i,'date']\n",
    "\n",
    "        dict1 = {'date' : date, 'sent' : sent, 'len' : wordcount}\n",
    "        row_list.append(dict1)\n",
    "    \n",
    "\n",
    "df2 = pd.DataFrame(row_list)\n",
    "df2.head()"
   ]
  },
  {
   "cell_type": "code",
   "execution_count": 384,
   "metadata": {},
   "outputs": [],
   "source": [
    "nlp = spacy.load('en_core_web_md')"
   ]
  },
  {
   "cell_type": "code",
   "execution_count": 385,
   "metadata": {},
   "outputs": [
    {
     "data": {
      "text/plain": [
       "[( I propose that a mock Parliament be organized around the 15th August in Delhi comprising one young representatives selected from every district of India who would participate and deliberate on how a new India could be formed in the next five years,\n",
       "   Similarly, India’s ancient heritage of yoga stands for holistic living that is in tune with nature),\n",
       " 0.9332822639247893]"
      ]
     },
     "execution_count": 385,
     "metadata": {},
     "output_type": "execute_result"
    }
   ],
   "source": [
    "p = df2['sent'].tolist()\n",
    "docx = nlp(p[np.random.randint(1, len(df2))])\n",
    "docy = nlp(p[np.random.randint(1, len(df2))])\n",
    "x = docx.similarity(docy)\n",
    "\n",
    "[(docx, docy), x]"
   ]
  },
  {
   "cell_type": "code",
   "execution_count": 386,
   "metadata": {},
   "outputs": [],
   "source": [
    "def dictfy(d1, t1):\n",
    "    sendict = dict()\n",
    "    for key in t1:\n",
    "        sendict[key] = []\n",
    "        for word in d1:\n",
    "            if word.dep_ == key:\n",
    "                sendict[key].append(word)\n",
    "    return sendict\n"
   ]
  },
  {
   "cell_type": "code",
   "execution_count": 407,
   "metadata": {},
   "outputs": [],
   "source": [
    "def filter(x1):\n",
    "    pq = list(x1.keys())\n",
    "    for key in pq:\n",
    "        if ('obj' not in key) and ('subj' not in key):\n",
    "            x1.pop(key)"
   ]
  },
  {
   "cell_type": "code",
   "execution_count": 408,
   "metadata": {},
   "outputs": [
    {
     "name": "stdout",
     "output_type": "stream",
     "text": [
      "{'aux': [would, could], 'nsubjpass': [Parliament, India], 'amod': [mock, 15th, young, new, next], 'det': [a, the, every, a, the], 'prep': [around, in, from, of, on, in], 'appos': [August], 'pobj': [district, India, years], 'ccomp': [organized], 'dep': [ ,  ], 'nummod': [one, five], 'conj': [deliberate], 'advmod': [how], 'acl': [selected], 'dobj': [representatives], 'relcl': [participate], 'mark': [that], 'auxpass': [be, be], 'nsubj': [I, Delhi, who], 'pcomp': [comprising, formed], 'ROOT': [propose], 'cc': [and]} {'relcl': [is], 'amod': [ancient, holistic], 'pobj': [yoga, living, tune, nature], 'punct': [,], 'nsubj': [heritage, that], 'dep': [ ], 'poss': [India], 'advmod': [Similarly], 'ROOT': [stands], 'prep': [of, for, in, with], 'case': [’s]}\n"
     ]
    }
   ],
   "source": [
    "if x > 0.925:\n",
    "    d1 = dictfy(docx, set([token.dep_ for token in docx]))\n",
    "    d2 = dictfy(docy, set([token.dep_ for token in docy]))\n",
    "    print(d1, d2)\n",
    "else:\n",
    "    print([(docx, docy), x], \"sentences not similar enough\")"
   ]
  },
  {
   "cell_type": "code",
   "execution_count": 409,
   "metadata": {},
   "outputs": [
    {
     "name": "stdout",
     "output_type": "stream",
     "text": [
      "{'nsubjpass': [Parliament, India], 'pobj': [district, India, years], 'dobj': [representatives], 'nsubj': [I, Delhi, who]} {'pobj': [yoga, living, tune, nature], 'nsubj': [heritage, that]}\n"
     ]
    }
   ],
   "source": [
    "filter(d1)\n",
    "filter(d2)\n",
    "print(d1, d2)"
   ]
  }
 ],
 "metadata": {
  "interpreter": {
   "hash": "30e0093a970397ed409900a398af9a89913422676cb23e3d71f945f13aa175f8"
  },
  "kernelspec": {
   "display_name": "Python 3.9.12 64-bit (windows store)",
   "language": "python",
   "name": "python3"
  },
  "language_info": {
   "codemirror_mode": {
    "name": "ipython",
    "version": 3
   },
   "file_extension": ".py",
   "mimetype": "text/x-python",
   "name": "python",
   "nbconvert_exporter": "python",
   "pygments_lexer": "ipython3",
   "version": "3.9.13"
  },
  "orig_nbformat": 4
 },
 "nbformat": 4,
 "nbformat_minor": 2
}
