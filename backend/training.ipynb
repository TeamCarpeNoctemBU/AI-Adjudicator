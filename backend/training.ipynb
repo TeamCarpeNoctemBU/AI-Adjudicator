{
 "cells": [
  {
   "cell_type": "markdown",
   "metadata": {},
   "source": [
    "Welcome to the IPYNB of this project. This file is merely a show of proof of what we did to understand and use NLP to the best of our abilities. Most of this code is made functional in the backbone.py file. "
   ]
  },
  {
   "cell_type": "code",
   "execution_count": 1,
   "metadata": {},
   "outputs": [],
   "source": [
    "# importing all required libraries\n",
    "import re\n",
    "import pandas as pd\n",
    "import numpy as np\n",
    "import spacy"
   ]
  },
  {
   "cell_type": "markdown",
   "metadata": {},
   "source": [
    "next, we create a function that consolidates all the required preprocessing into one function that can be applied onto a DataFrame."
   ]
  },
  {
   "cell_type": "code",
   "execution_count": 2,
   "metadata": {},
   "outputs": [],
   "source": [
    "def clean(text): \n",
    "    text = re.sub('[0-9]+.\\t' + '...','',str(text))\n",
    "    text = re.sub('\\n ','',str(text))\n",
    "    text = re.sub('\\n',' ',str(text))\n",
    "    text = re.sub(\"'s\",'',str(text))\n",
    "    text = re.sub(\"-\",' ',str(text))\n",
    "    text = re.sub(\"—\",'',str(text))\n",
    "    text = re.sub('\\\"','',str(text))\n",
    "    text = re.sub(\"Mr\\.\",'Mr',str(text))\n",
    "    text = re.sub(\"Mrs\\.\",'Mrs',str(text))\n",
    "    text = re.sub(\"[\\(\\[].*?[\\)\\]]\", \"\", str(text))\n",
    "    text = re.sub(r'^https?:\\/\\/.*[\\r\\n]*', '', text, flags=re.MULTILINE)\n",
    "    return [text]"
   ]
  },
  {
   "cell_type": "markdown",
   "metadata": {},
   "source": [
    "Getting the dataset, and filtering out the data we will not need."
   ]
  },
  {
   "cell_type": "code",
   "execution_count": 3,
   "metadata": {},
   "outputs": [
    {
     "data": {
      "text/html": [
       "<div>\n",
       "<style scoped>\n",
       "    .dataframe tbody tr th:only-of-type {\n",
       "        vertical-align: middle;\n",
       "    }\n",
       "\n",
       "    .dataframe tbody tr th {\n",
       "        vertical-align: top;\n",
       "    }\n",
       "\n",
       "    .dataframe thead th {\n",
       "        text-align: right;\n",
       "    }\n",
       "</style>\n",
       "<table border=\"1\" class=\"dataframe\">\n",
       "  <thead>\n",
       "    <tr style=\"text-align: right;\">\n",
       "      <th></th>\n",
       "      <th>id</th>\n",
       "      <th>title</th>\n",
       "      <th>publisher</th>\n",
       "      <th>category</th>\n",
       "      <th>story</th>\n",
       "      <th>main_content</th>\n",
       "      <th>main_content_len</th>\n",
       "      <th>Speech_clean</th>\n",
       "    </tr>\n",
       "  </thead>\n",
       "  <tbody>\n",
       "    <tr>\n",
       "      <th>0</th>\n",
       "      <td>22237</td>\n",
       "      <td>The Incredibles 2, Cars 3 in the works, Disney...</td>\n",
       "      <td>Digital Spy</td>\n",
       "      <td>e</td>\n",
       "      <td>dABGVITQs6X1I4MdYGnX9zY59PpVM</td>\n",
       "      <td>The Incredibles 2 and Cars 3 are in developmen...</td>\n",
       "      <td>1340.0</td>\n",
       "      <td>[The Incredibles 2 and Cars 3 are in developme...</td>\n",
       "    </tr>\n",
       "    <tr>\n",
       "      <th>1</th>\n",
       "      <td>22241</td>\n",
       "      <td>The Incredibles are set for another big-screen...</td>\n",
       "      <td>Belfast Telegraph</td>\n",
       "      <td>e</td>\n",
       "      <td>dABGVITQs6X1I4MdYGnX9zY59PpVM</td>\n",
       "      <td>Incredibles 2, Cars 3 in the works BelfastTele...</td>\n",
       "      <td>1620.0</td>\n",
       "      <td>[Incredibles 2, Cars 3 in the works BelfastTel...</td>\n",
       "    </tr>\n",
       "    <tr>\n",
       "      <th>2</th>\n",
       "      <td>22244</td>\n",
       "      <td>Pixar Working On Sequels For Popular Animated ...</td>\n",
       "      <td>Online News Heard Now</td>\n",
       "      <td>e</td>\n",
       "      <td>dABGVITQs6X1I4MdYGnX9zY59PpVM</td>\n",
       "      <td>Posted by News\\n\\nPixar Working On Sequels For...</td>\n",
       "      <td>1339.0</td>\n",
       "      <td>[Posted by News  Pixar Working On Sequels For ...</td>\n",
       "    </tr>\n",
       "    <tr>\n",
       "      <th>3</th>\n",
       "      <td>22248</td>\n",
       "      <td>State Of The (Disney) Union: Cars 3, Incredibl...</td>\n",
       "      <td>Contactmusic.com</td>\n",
       "      <td>e</td>\n",
       "      <td>dABGVITQs6X1I4MdYGnX9zY59PpVM</td>\n",
       "      <td>In news you didn’t know you needed until right...</td>\n",
       "      <td>1737.0</td>\n",
       "      <td>[In news you didn’t know you needed until righ...</td>\n",
       "    </tr>\n",
       "    <tr>\n",
       "      <th>4</th>\n",
       "      <td>22249</td>\n",
       "      <td>Disney Pixar confirm The Incredibles 2</td>\n",
       "      <td>Total Film</td>\n",
       "      <td>e</td>\n",
       "      <td>dABGVITQs6X1I4MdYGnX9zY59PpVM</td>\n",
       "      <td>The first footage from Incredibles 2 (there's ...</td>\n",
       "      <td>2942.0</td>\n",
       "      <td>[The first footage from Incredibles 2  was sho...</td>\n",
       "    </tr>\n",
       "  </tbody>\n",
       "</table>\n",
       "</div>"
      ],
      "text/plain": [
       "      id                                              title  \\\n",
       "0  22237  The Incredibles 2, Cars 3 in the works, Disney...   \n",
       "1  22241  The Incredibles are set for another big-screen...   \n",
       "2  22244  Pixar Working On Sequels For Popular Animated ...   \n",
       "3  22248  State Of The (Disney) Union: Cars 3, Incredibl...   \n",
       "4  22249             Disney Pixar confirm The Incredibles 2   \n",
       "\n",
       "               publisher category                          story  \\\n",
       "0            Digital Spy        e  dABGVITQs6X1I4MdYGnX9zY59PpVM   \n",
       "1      Belfast Telegraph        e  dABGVITQs6X1I4MdYGnX9zY59PpVM   \n",
       "2  Online News Heard Now        e  dABGVITQs6X1I4MdYGnX9zY59PpVM   \n",
       "3       Contactmusic.com        e  dABGVITQs6X1I4MdYGnX9zY59PpVM   \n",
       "4             Total Film        e  dABGVITQs6X1I4MdYGnX9zY59PpVM   \n",
       "\n",
       "                                        main_content  main_content_len  \\\n",
       "0  The Incredibles 2 and Cars 3 are in developmen...            1340.0   \n",
       "1  Incredibles 2, Cars 3 in the works BelfastTele...            1620.0   \n",
       "2  Posted by News\\n\\nPixar Working On Sequels For...            1339.0   \n",
       "3  In news you didn’t know you needed until right...            1737.0   \n",
       "4  The first footage from Incredibles 2 (there's ...            2942.0   \n",
       "\n",
       "                                        Speech_clean  \n",
       "0  [The Incredibles 2 and Cars 3 are in developme...  \n",
       "1  [Incredibles 2, Cars 3 in the works BelfastTel...  \n",
       "2  [Posted by News  Pixar Working On Sequels For ...  \n",
       "3  [In news you didn’t know you needed until righ...  \n",
       "4  [The first footage from Incredibles 2  was sho...  "
      ]
     },
     "execution_count": 3,
     "metadata": {},
     "output_type": "execute_result"
    }
   ],
   "source": [
    "# Dataframe\n",
    "df = pd.read_csv(r'.\\datasets_AI\\news.csv')\n",
    "df = df.drop(columns=['url', 'hostname', 'timestamp'], axis=1)\n",
    "df = df[df.story == 'dABGVITQs6X1I4MdYGnX9zY59PpVM']\n",
    "# clean speech\n",
    "df['Speech_clean'] = df['main_content'].apply(clean)\n",
    "\n",
    "#reset indices for removed stuff\n",
    "df.reset_index(inplace=True)\n",
    "df.drop(['Unnamed: 0', 'index'], axis = 1, inplace = True)\n",
    "\n",
    "df.head()"
   ]
  },
  {
   "cell_type": "markdown",
   "metadata": {},
   "source": [
    "this step is mostly redundant, we initially thought we would need multiple functions to preprocess our datasets properly."
   ]
  },
  {
   "cell_type": "code",
   "execution_count": 4,
   "metadata": {},
   "outputs": [
    {
     "ename": "KeyError",
     "evalue": "'sent'",
     "output_type": "error",
     "traceback": [
      "\u001b[1;31m---------------------------------------------------------------------------\u001b[0m",
      "\u001b[1;31mKeyError\u001b[0m                                  Traceback (most recent call last)",
      "File \u001b[1;32m~\\AppData\\Local\\Packages\\PythonSoftwareFoundation.Python.3.9_qbz5n2kfra8p0\\LocalCache\\local-packages\\Python39\\site-packages\\pandas\\core\\indexes\\base.py:3361\u001b[0m, in \u001b[0;36mIndex.get_loc\u001b[1;34m(self, key, method, tolerance)\u001b[0m\n\u001b[0;32m   <a href='file:///c%3A/Users/andyd/AppData/Local/Packages/PythonSoftwareFoundation.Python.3.9_qbz5n2kfra8p0/LocalCache/local-packages/Python39/site-packages/pandas/core/indexes/base.py?line=3359'>3360</a>\u001b[0m \u001b[39mtry\u001b[39;00m:\n\u001b[1;32m-> <a href='file:///c%3A/Users/andyd/AppData/Local/Packages/PythonSoftwareFoundation.Python.3.9_qbz5n2kfra8p0/LocalCache/local-packages/Python39/site-packages/pandas/core/indexes/base.py?line=3360'>3361</a>\u001b[0m     \u001b[39mreturn\u001b[39;00m \u001b[39mself\u001b[39;49m\u001b[39m.\u001b[39;49m_engine\u001b[39m.\u001b[39;49mget_loc(casted_key)\n\u001b[0;32m   <a href='file:///c%3A/Users/andyd/AppData/Local/Packages/PythonSoftwareFoundation.Python.3.9_qbz5n2kfra8p0/LocalCache/local-packages/Python39/site-packages/pandas/core/indexes/base.py?line=3361'>3362</a>\u001b[0m \u001b[39mexcept\u001b[39;00m \u001b[39mKeyError\u001b[39;00m \u001b[39mas\u001b[39;00m err:\n",
      "File \u001b[1;32m~\\AppData\\Local\\Packages\\PythonSoftwareFoundation.Python.3.9_qbz5n2kfra8p0\\LocalCache\\local-packages\\Python39\\site-packages\\pandas\\_libs\\index.pyx:76\u001b[0m, in \u001b[0;36mpandas._libs.index.IndexEngine.get_loc\u001b[1;34m()\u001b[0m\n",
      "File \u001b[1;32m~\\AppData\\Local\\Packages\\PythonSoftwareFoundation.Python.3.9_qbz5n2kfra8p0\\LocalCache\\local-packages\\Python39\\site-packages\\pandas\\_libs\\index.pyx:108\u001b[0m, in \u001b[0;36mpandas._libs.index.IndexEngine.get_loc\u001b[1;34m()\u001b[0m\n",
      "File \u001b[1;32mpandas\\_libs\\hashtable_class_helper.pxi:5198\u001b[0m, in \u001b[0;36mpandas._libs.hashtable.PyObjectHashTable.get_item\u001b[1;34m()\u001b[0m\n",
      "File \u001b[1;32mpandas\\_libs\\hashtable_class_helper.pxi:5206\u001b[0m, in \u001b[0;36mpandas._libs.hashtable.PyObjectHashTable.get_item\u001b[1;34m()\u001b[0m\n",
      "\u001b[1;31mKeyError\u001b[0m: 'sent'",
      "\nThe above exception was the direct cause of the following exception:\n",
      "\u001b[1;31mKeyError\u001b[0m                                  Traceback (most recent call last)",
      "\u001b[1;32mm:\\Code\\Hackaccino22\\HackaccinoProject22\\backend\\training.ipynb Cell 8'\u001b[0m in \u001b[0;36m<cell line: 5>\u001b[1;34m()\u001b[0m\n\u001b[0;32m      <a href='vscode-notebook-cell:/m%3A/Code/Hackaccino22/HackaccinoProject22/backend/training.ipynb#ch0000003?line=2'>3</a>\u001b[0m row_list \u001b[39m=\u001b[39m []\n\u001b[0;32m      <a href='vscode-notebook-cell:/m%3A/Code/Hackaccino22/HackaccinoProject22/backend/training.ipynb#ch0000003?line=4'>5</a>\u001b[0m \u001b[39mfor\u001b[39;00m i \u001b[39min\u001b[39;00m \u001b[39mrange\u001b[39m(\u001b[39mlen\u001b[39m(df)):\n\u001b[1;32m----> <a href='vscode-notebook-cell:/m%3A/Code/Hackaccino22/HackaccinoProject22/backend/training.ipynb#ch0000003?line=5'>6</a>\u001b[0m     \u001b[39mfor\u001b[39;00m sent \u001b[39min\u001b[39;00m df\u001b[39m.\u001b[39;49mat[i,\u001b[39m'\u001b[39;49m\u001b[39msent\u001b[39;49m\u001b[39m'\u001b[39;49m]:\n\u001b[0;32m      <a href='vscode-notebook-cell:/m%3A/Code/Hackaccino22/HackaccinoProject22/backend/training.ipynb#ch0000003?line=7'>8</a>\u001b[0m         wordcount \u001b[39m=\u001b[39m \u001b[39mlen\u001b[39m(sent\u001b[39m.\u001b[39msplit())\n\u001b[0;32m      <a href='vscode-notebook-cell:/m%3A/Code/Hackaccino22/HackaccinoProject22/backend/training.ipynb#ch0000003?line=8'>9</a>\u001b[0m         \u001b[39mid\u001b[39m \u001b[39m=\u001b[39m df\u001b[39m.\u001b[39mat[i,\u001b[39m'\u001b[39m\u001b[39mid\u001b[39m\u001b[39m'\u001b[39m]\n",
      "File \u001b[1;32m~\\AppData\\Local\\Packages\\PythonSoftwareFoundation.Python.3.9_qbz5n2kfra8p0\\LocalCache\\local-packages\\Python39\\site-packages\\pandas\\core\\indexing.py:2275\u001b[0m, in \u001b[0;36m_AtIndexer.__getitem__\u001b[1;34m(self, key)\u001b[0m\n\u001b[0;32m   <a href='file:///c%3A/Users/andyd/AppData/Local/Packages/PythonSoftwareFoundation.Python.3.9_qbz5n2kfra8p0/LocalCache/local-packages/Python39/site-packages/pandas/core/indexing.py?line=2271'>2272</a>\u001b[0m         \u001b[39mraise\u001b[39;00m \u001b[39mValueError\u001b[39;00m(\u001b[39m\"\u001b[39m\u001b[39mInvalid call for scalar access (getting)!\u001b[39m\u001b[39m\"\u001b[39m)\n\u001b[0;32m   <a href='file:///c%3A/Users/andyd/AppData/Local/Packages/PythonSoftwareFoundation.Python.3.9_qbz5n2kfra8p0/LocalCache/local-packages/Python39/site-packages/pandas/core/indexing.py?line=2272'>2273</a>\u001b[0m     \u001b[39mreturn\u001b[39;00m \u001b[39mself\u001b[39m\u001b[39m.\u001b[39mobj\u001b[39m.\u001b[39mloc[key]\n\u001b[1;32m-> <a href='file:///c%3A/Users/andyd/AppData/Local/Packages/PythonSoftwareFoundation.Python.3.9_qbz5n2kfra8p0/LocalCache/local-packages/Python39/site-packages/pandas/core/indexing.py?line=2274'>2275</a>\u001b[0m \u001b[39mreturn\u001b[39;00m \u001b[39msuper\u001b[39;49m()\u001b[39m.\u001b[39;49m\u001b[39m__getitem__\u001b[39;49m(key)\n",
      "File \u001b[1;32m~\\AppData\\Local\\Packages\\PythonSoftwareFoundation.Python.3.9_qbz5n2kfra8p0\\LocalCache\\local-packages\\Python39\\site-packages\\pandas\\core\\indexing.py:2222\u001b[0m, in \u001b[0;36m_ScalarAccessIndexer.__getitem__\u001b[1;34m(self, key)\u001b[0m\n\u001b[0;32m   <a href='file:///c%3A/Users/andyd/AppData/Local/Packages/PythonSoftwareFoundation.Python.3.9_qbz5n2kfra8p0/LocalCache/local-packages/Python39/site-packages/pandas/core/indexing.py?line=2218'>2219</a>\u001b[0m         \u001b[39mraise\u001b[39;00m \u001b[39mValueError\u001b[39;00m(\u001b[39m\"\u001b[39m\u001b[39mInvalid call for scalar access (getting)!\u001b[39m\u001b[39m\"\u001b[39m)\n\u001b[0;32m   <a href='file:///c%3A/Users/andyd/AppData/Local/Packages/PythonSoftwareFoundation.Python.3.9_qbz5n2kfra8p0/LocalCache/local-packages/Python39/site-packages/pandas/core/indexing.py?line=2220'>2221</a>\u001b[0m key \u001b[39m=\u001b[39m \u001b[39mself\u001b[39m\u001b[39m.\u001b[39m_convert_key(key)\n\u001b[1;32m-> <a href='file:///c%3A/Users/andyd/AppData/Local/Packages/PythonSoftwareFoundation.Python.3.9_qbz5n2kfra8p0/LocalCache/local-packages/Python39/site-packages/pandas/core/indexing.py?line=2221'>2222</a>\u001b[0m \u001b[39mreturn\u001b[39;00m \u001b[39mself\u001b[39;49m\u001b[39m.\u001b[39;49mobj\u001b[39m.\u001b[39;49m_get_value(\u001b[39m*\u001b[39;49mkey, takeable\u001b[39m=\u001b[39;49m\u001b[39mself\u001b[39;49m\u001b[39m.\u001b[39;49m_takeable)\n",
      "File \u001b[1;32m~\\AppData\\Local\\Packages\\PythonSoftwareFoundation.Python.3.9_qbz5n2kfra8p0\\LocalCache\\local-packages\\Python39\\site-packages\\pandas\\core\\frame.py:3568\u001b[0m, in \u001b[0;36mDataFrame._get_value\u001b[1;34m(self, index, col, takeable)\u001b[0m\n\u001b[0;32m   <a href='file:///c%3A/Users/andyd/AppData/Local/Packages/PythonSoftwareFoundation.Python.3.9_qbz5n2kfra8p0/LocalCache/local-packages/Python39/site-packages/pandas/core/frame.py?line=3564'>3565</a>\u001b[0m     series \u001b[39m=\u001b[39m \u001b[39mself\u001b[39m\u001b[39m.\u001b[39m_ixs(col, axis\u001b[39m=\u001b[39m\u001b[39m1\u001b[39m)\n\u001b[0;32m   <a href='file:///c%3A/Users/andyd/AppData/Local/Packages/PythonSoftwareFoundation.Python.3.9_qbz5n2kfra8p0/LocalCache/local-packages/Python39/site-packages/pandas/core/frame.py?line=3565'>3566</a>\u001b[0m     \u001b[39mreturn\u001b[39;00m series\u001b[39m.\u001b[39m_values[index]\n\u001b[1;32m-> <a href='file:///c%3A/Users/andyd/AppData/Local/Packages/PythonSoftwareFoundation.Python.3.9_qbz5n2kfra8p0/LocalCache/local-packages/Python39/site-packages/pandas/core/frame.py?line=3567'>3568</a>\u001b[0m series \u001b[39m=\u001b[39m \u001b[39mself\u001b[39;49m\u001b[39m.\u001b[39;49m_get_item_cache(col)\n\u001b[0;32m   <a href='file:///c%3A/Users/andyd/AppData/Local/Packages/PythonSoftwareFoundation.Python.3.9_qbz5n2kfra8p0/LocalCache/local-packages/Python39/site-packages/pandas/core/frame.py?line=3568'>3569</a>\u001b[0m engine \u001b[39m=\u001b[39m \u001b[39mself\u001b[39m\u001b[39m.\u001b[39mindex\u001b[39m.\u001b[39m_engine\n\u001b[0;32m   <a href='file:///c%3A/Users/andyd/AppData/Local/Packages/PythonSoftwareFoundation.Python.3.9_qbz5n2kfra8p0/LocalCache/local-packages/Python39/site-packages/pandas/core/frame.py?line=3570'>3571</a>\u001b[0m \u001b[39mif\u001b[39;00m \u001b[39misinstance\u001b[39m(\u001b[39mself\u001b[39m\u001b[39m.\u001b[39mindex, CategoricalIndex):\n\u001b[0;32m   <a href='file:///c%3A/Users/andyd/AppData/Local/Packages/PythonSoftwareFoundation.Python.3.9_qbz5n2kfra8p0/LocalCache/local-packages/Python39/site-packages/pandas/core/frame.py?line=3571'>3572</a>\u001b[0m     \u001b[39m# Trying to use the engine fastpath may give incorrect results\u001b[39;00m\n\u001b[0;32m   <a href='file:///c%3A/Users/andyd/AppData/Local/Packages/PythonSoftwareFoundation.Python.3.9_qbz5n2kfra8p0/LocalCache/local-packages/Python39/site-packages/pandas/core/frame.py?line=3572'>3573</a>\u001b[0m     \u001b[39m#  if our categories are integers that dont match our codes\u001b[39;00m\n",
      "File \u001b[1;32m~\\AppData\\Local\\Packages\\PythonSoftwareFoundation.Python.3.9_qbz5n2kfra8p0\\LocalCache\\local-packages\\Python39\\site-packages\\pandas\\core\\frame.py:3884\u001b[0m, in \u001b[0;36mDataFrame._get_item_cache\u001b[1;34m(self, item)\u001b[0m\n\u001b[0;32m   <a href='file:///c%3A/Users/andyd/AppData/Local/Packages/PythonSoftwareFoundation.Python.3.9_qbz5n2kfra8p0/LocalCache/local-packages/Python39/site-packages/pandas/core/frame.py?line=3878'>3879</a>\u001b[0m res \u001b[39m=\u001b[39m cache\u001b[39m.\u001b[39mget(item)\n\u001b[0;32m   <a href='file:///c%3A/Users/andyd/AppData/Local/Packages/PythonSoftwareFoundation.Python.3.9_qbz5n2kfra8p0/LocalCache/local-packages/Python39/site-packages/pandas/core/frame.py?line=3879'>3880</a>\u001b[0m \u001b[39mif\u001b[39;00m res \u001b[39mis\u001b[39;00m \u001b[39mNone\u001b[39;00m:\n\u001b[0;32m   <a href='file:///c%3A/Users/andyd/AppData/Local/Packages/PythonSoftwareFoundation.Python.3.9_qbz5n2kfra8p0/LocalCache/local-packages/Python39/site-packages/pandas/core/frame.py?line=3880'>3881</a>\u001b[0m     \u001b[39m# All places that call _get_item_cache have unique columns,\u001b[39;00m\n\u001b[0;32m   <a href='file:///c%3A/Users/andyd/AppData/Local/Packages/PythonSoftwareFoundation.Python.3.9_qbz5n2kfra8p0/LocalCache/local-packages/Python39/site-packages/pandas/core/frame.py?line=3881'>3882</a>\u001b[0m     \u001b[39m#  pending resolution of GH#33047\u001b[39;00m\n\u001b[1;32m-> <a href='file:///c%3A/Users/andyd/AppData/Local/Packages/PythonSoftwareFoundation.Python.3.9_qbz5n2kfra8p0/LocalCache/local-packages/Python39/site-packages/pandas/core/frame.py?line=3883'>3884</a>\u001b[0m     loc \u001b[39m=\u001b[39m \u001b[39mself\u001b[39;49m\u001b[39m.\u001b[39;49mcolumns\u001b[39m.\u001b[39;49mget_loc(item)\n\u001b[0;32m   <a href='file:///c%3A/Users/andyd/AppData/Local/Packages/PythonSoftwareFoundation.Python.3.9_qbz5n2kfra8p0/LocalCache/local-packages/Python39/site-packages/pandas/core/frame.py?line=3884'>3885</a>\u001b[0m     values \u001b[39m=\u001b[39m \u001b[39mself\u001b[39m\u001b[39m.\u001b[39m_mgr\u001b[39m.\u001b[39miget(loc)\n\u001b[0;32m   <a href='file:///c%3A/Users/andyd/AppData/Local/Packages/PythonSoftwareFoundation.Python.3.9_qbz5n2kfra8p0/LocalCache/local-packages/Python39/site-packages/pandas/core/frame.py?line=3885'>3886</a>\u001b[0m     res \u001b[39m=\u001b[39m \u001b[39mself\u001b[39m\u001b[39m.\u001b[39m_box_col_values(values, loc)\u001b[39m.\u001b[39m__finalize__(\u001b[39mself\u001b[39m)\n",
      "File \u001b[1;32m~\\AppData\\Local\\Packages\\PythonSoftwareFoundation.Python.3.9_qbz5n2kfra8p0\\LocalCache\\local-packages\\Python39\\site-packages\\pandas\\core\\indexes\\base.py:3363\u001b[0m, in \u001b[0;36mIndex.get_loc\u001b[1;34m(self, key, method, tolerance)\u001b[0m\n\u001b[0;32m   <a href='file:///c%3A/Users/andyd/AppData/Local/Packages/PythonSoftwareFoundation.Python.3.9_qbz5n2kfra8p0/LocalCache/local-packages/Python39/site-packages/pandas/core/indexes/base.py?line=3360'>3361</a>\u001b[0m         \u001b[39mreturn\u001b[39;00m \u001b[39mself\u001b[39m\u001b[39m.\u001b[39m_engine\u001b[39m.\u001b[39mget_loc(casted_key)\n\u001b[0;32m   <a href='file:///c%3A/Users/andyd/AppData/Local/Packages/PythonSoftwareFoundation.Python.3.9_qbz5n2kfra8p0/LocalCache/local-packages/Python39/site-packages/pandas/core/indexes/base.py?line=3361'>3362</a>\u001b[0m     \u001b[39mexcept\u001b[39;00m \u001b[39mKeyError\u001b[39;00m \u001b[39mas\u001b[39;00m err:\n\u001b[1;32m-> <a href='file:///c%3A/Users/andyd/AppData/Local/Packages/PythonSoftwareFoundation.Python.3.9_qbz5n2kfra8p0/LocalCache/local-packages/Python39/site-packages/pandas/core/indexes/base.py?line=3362'>3363</a>\u001b[0m         \u001b[39mraise\u001b[39;00m \u001b[39mKeyError\u001b[39;00m(key) \u001b[39mfrom\u001b[39;00m \u001b[39merr\u001b[39;00m\n\u001b[0;32m   <a href='file:///c%3A/Users/andyd/AppData/Local/Packages/PythonSoftwareFoundation.Python.3.9_qbz5n2kfra8p0/LocalCache/local-packages/Python39/site-packages/pandas/core/indexes/base.py?line=3364'>3365</a>\u001b[0m \u001b[39mif\u001b[39;00m is_scalar(key) \u001b[39mand\u001b[39;00m isna(key) \u001b[39mand\u001b[39;00m \u001b[39mnot\u001b[39;00m \u001b[39mself\u001b[39m\u001b[39m.\u001b[39mhasnans:\n\u001b[0;32m   <a href='file:///c%3A/Users/andyd/AppData/Local/Packages/PythonSoftwareFoundation.Python.3.9_qbz5n2kfra8p0/LocalCache/local-packages/Python39/site-packages/pandas/core/indexes/base.py?line=3365'>3366</a>\u001b[0m     \u001b[39mraise\u001b[39;00m \u001b[39mKeyError\u001b[39;00m(key)\n",
      "\u001b[1;31mKeyError\u001b[0m: 'sent'"
     ]
    }
   ],
   "source": [
    "df2 = pd.DataFrame(columns=['sent','id','len'])\n",
    "\n",
    "row_list = []\n",
    "\n",
    "for i in range(len(df)):\n",
    "    for sent in df.at[i,'Speech_clean']:\n",
    "    \n",
    "        wordcount = len(sent.split())\n",
    "        id = df.at[i,'id']\n",
    "\n",
    "        dict1 = {'id' : id, 'sent' : sent, 'len' : wordcount}\n",
    "        row_list.append(dict1)\n",
    "    \n",
    "\n",
    "df2 = pd.DataFrame(row_list)\n",
    "df2.head()"
   ]
  },
  {
   "cell_type": "markdown",
   "metadata": {},
   "source": [
    "loading the spacy english model, the one which supports vectors so we get more accurate cosine similarities"
   ]
  },
  {
   "cell_type": "code",
   "execution_count": null,
   "metadata": {},
   "outputs": [],
   "source": [
    "nlp = spacy.load('en_core_web_md')"
   ]
  },
  {
   "cell_type": "markdown",
   "metadata": {},
   "source": [
    "taking a random, small sample from our dataset. we don't need to train our model. so there's no need to have proper test/train sets."
   ]
  },
  {
   "cell_type": "code",
   "execution_count": null,
   "metadata": {},
   "outputs": [],
   "source": [
    "p = df2['sent'].tolist()\n",
    "docx = nlp(p[np.random.randint(1, len(df2))])\n",
    "docy = nlp(p[np.random.randint(1, len(df2))])\n",
    "x = docx.similarity(docy)\n",
    "\n",
    "[(docx, docy), x]"
   ]
  },
  {
   "cell_type": "markdown",
   "metadata": {},
   "source": [
    "define a function to convert our data into a dict."
   ]
  },
  {
   "cell_type": "code",
   "execution_count": null,
   "metadata": {},
   "outputs": [],
   "source": [
    "def dictfy(d1, t1):\n",
    "    sendict = dict()\n",
    "    for key in t1:\n",
    "        sendict[key] = []\n",
    "        for word in d1:\n",
    "            if word.label_ == key:\n",
    "                sendict[key].append(str(word).lower().strip())\n",
    "    for key in sendict.keys():\n",
    "        sendict[key] = list(set(sendict[key]))\n",
    "    return sendict\n"
   ]
  },
  {
   "cell_type": "markdown",
   "metadata": {},
   "source": [
    "if the articles are not related at all, we simply do not find their intersections and deal with the data. the rest of this code has been perfected in backbone.py, but it does not have any comments due to lack of time."
   ]
  },
  {
   "cell_type": "code",
   "execution_count": null,
   "metadata": {},
   "outputs": [],
   "source": [
    "if x > 0.925:\n",
    "    x1 = dictfy([ent for ent in docx.ents], [ent.label_ for ent in docx.ents])\n",
    "    xres = filter(lambda x: x.tag_ == 'VBG', docx)\n",
    "    x1['VERB'] = list(set(xres))\n",
    "    y1 = dictfy([ent for ent in docy.ents], [ent.label_ for ent in docy.ents])\n",
    "    yres = filter(lambda y: y.tag_ == 'VBG', docy)\n",
    "    y1['VERB'] = list(set(yres))\n",
    "    print([x1, y1], x)\n",
    "else:\n",
    "    print(\"sentences not similar enough\")\n",
    "\n",
    "# [[ent.text, ent.label_] for ent in docy.ents]"
   ]
  }
 ],
 "metadata": {
  "interpreter": {
   "hash": "30e0093a970397ed409900a398af9a89913422676cb23e3d71f945f13aa175f8"
  },
  "kernelspec": {
   "display_name": "Python 3.9.12 64-bit (windows store)",
   "language": "python",
   "name": "python3"
  },
  "language_info": {
   "codemirror_mode": {
    "name": "ipython",
    "version": 3
   },
   "file_extension": ".py",
   "mimetype": "text/x-python",
   "name": "python",
   "nbconvert_exporter": "python",
   "pygments_lexer": "ipython3",
   "version": "3.9.13"
  },
  "orig_nbformat": 4
 },
 "nbformat": 4,
 "nbformat_minor": 2
}
