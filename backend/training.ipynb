{
 "cells": [
  {
   "cell_type": "code",
   "execution_count": 37,
   "metadata": {},
   "outputs": [],
   "source": [
    "import re\n",
    "import pandas as pd\n",
    "import numpy as np\n",
    "import spacy"
   ]
  },
  {
   "cell_type": "code",
   "execution_count": 38,
   "metadata": {},
   "outputs": [],
   "source": [
    "def clean(text): \n",
    "    text = re.sub('[0-9]+.\\t' + '...','',str(text))\n",
    "    text = re.sub('\\n ','',str(text))\n",
    "    text = re.sub('\\n',' ',str(text))\n",
    "    text = re.sub(\"'s\",'',str(text))\n",
    "    text = re.sub(\"-\",' ',str(text))\n",
    "    text = re.sub(\"—\",'',str(text))\n",
    "    text = re.sub('\\\"','',str(text))\n",
    "    text = re.sub(\"Mr\\.\",'Mr',str(text))\n",
    "    text = re.sub(\"Mrs\\.\",'Mrs',str(text))\n",
    "    text = re.sub(\"[\\(\\[].*?[\\)\\]]\", \"\", str(text))\n",
    "    text = re.sub(r'^https?:\\/\\/.*[\\r\\n]*', '', text, flags=re.MULTILINE)\n",
    "    return text"
   ]
  },
  {
   "cell_type": "code",
   "execution_count": 39,
   "metadata": {},
   "outputs": [],
   "source": [
    "def sentences(text):\n",
    "    text = re.split('adwd adaldkjaldk jenjfbakdnjak jhbaiauwhd aonlda', text)\n",
    "    clean_sent = []\n",
    "    for sent in text:\n",
    "        clean_sent.append(sent)\n",
    "    return clean_sent"
   ]
  },
  {
   "cell_type": "code",
   "execution_count": 40,
   "metadata": {},
   "outputs": [
    {
     "data": {
      "text/html": [
       "<div>\n",
       "<style scoped>\n",
       "    .dataframe tbody tr th:only-of-type {\n",
       "        vertical-align: middle;\n",
       "    }\n",
       "\n",
       "    .dataframe tbody tr th {\n",
       "        vertical-align: top;\n",
       "    }\n",
       "\n",
       "    .dataframe thead th {\n",
       "        text-align: right;\n",
       "    }\n",
       "</style>\n",
       "<table border=\"1\" class=\"dataframe\">\n",
       "  <thead>\n",
       "    <tr style=\"text-align: right;\">\n",
       "      <th></th>\n",
       "      <th>id</th>\n",
       "      <th>title</th>\n",
       "      <th>publisher</th>\n",
       "      <th>category</th>\n",
       "      <th>story</th>\n",
       "      <th>main_content</th>\n",
       "      <th>main_content_len</th>\n",
       "      <th>Speech_clean</th>\n",
       "      <th>sent</th>\n",
       "    </tr>\n",
       "  </thead>\n",
       "  <tbody>\n",
       "    <tr>\n",
       "      <th>0</th>\n",
       "      <td>22237</td>\n",
       "      <td>The Incredibles 2, Cars 3 in the works, Disney...</td>\n",
       "      <td>Digital Spy</td>\n",
       "      <td>e</td>\n",
       "      <td>dABGVITQs6X1I4MdYGnX9zY59PpVM</td>\n",
       "      <td>The Incredibles 2 and Cars 3 are in developmen...</td>\n",
       "      <td>1340.0</td>\n",
       "      <td>The Incredibles 2 and Cars 3 are in developmen...</td>\n",
       "      <td>[The Incredibles 2 and Cars 3 are in developme...</td>\n",
       "    </tr>\n",
       "    <tr>\n",
       "      <th>1</th>\n",
       "      <td>22241</td>\n",
       "      <td>The Incredibles are set for another big-screen...</td>\n",
       "      <td>Belfast Telegraph</td>\n",
       "      <td>e</td>\n",
       "      <td>dABGVITQs6X1I4MdYGnX9zY59PpVM</td>\n",
       "      <td>Incredibles 2, Cars 3 in the works BelfastTele...</td>\n",
       "      <td>1620.0</td>\n",
       "      <td>Incredibles 2, Cars 3 in the works BelfastTele...</td>\n",
       "      <td>[Incredibles 2, Cars 3 in the works BelfastTel...</td>\n",
       "    </tr>\n",
       "    <tr>\n",
       "      <th>2</th>\n",
       "      <td>22244</td>\n",
       "      <td>Pixar Working On Sequels For Popular Animated ...</td>\n",
       "      <td>Online News Heard Now</td>\n",
       "      <td>e</td>\n",
       "      <td>dABGVITQs6X1I4MdYGnX9zY59PpVM</td>\n",
       "      <td>Posted by News\\n\\nPixar Working On Sequels For...</td>\n",
       "      <td>1339.0</td>\n",
       "      <td>Posted by News  Pixar Working On Sequels For P...</td>\n",
       "      <td>[Posted by News  Pixar Working On Sequels For ...</td>\n",
       "    </tr>\n",
       "    <tr>\n",
       "      <th>3</th>\n",
       "      <td>22248</td>\n",
       "      <td>State Of The (Disney) Union: Cars 3, Incredibl...</td>\n",
       "      <td>Contactmusic.com</td>\n",
       "      <td>e</td>\n",
       "      <td>dABGVITQs6X1I4MdYGnX9zY59PpVM</td>\n",
       "      <td>In news you didn’t know you needed until right...</td>\n",
       "      <td>1737.0</td>\n",
       "      <td>In news you didn’t know you needed until right...</td>\n",
       "      <td>[In news you didn’t know you needed until righ...</td>\n",
       "    </tr>\n",
       "    <tr>\n",
       "      <th>4</th>\n",
       "      <td>22249</td>\n",
       "      <td>Disney Pixar confirm The Incredibles 2</td>\n",
       "      <td>Total Film</td>\n",
       "      <td>e</td>\n",
       "      <td>dABGVITQs6X1I4MdYGnX9zY59PpVM</td>\n",
       "      <td>The first footage from Incredibles 2 (there's ...</td>\n",
       "      <td>2942.0</td>\n",
       "      <td>The first footage from Incredibles 2  was show...</td>\n",
       "      <td>[The first footage from Incredibles 2  was sho...</td>\n",
       "    </tr>\n",
       "  </tbody>\n",
       "</table>\n",
       "</div>"
      ],
      "text/plain": [
       "      id                                              title  \\\n",
       "0  22237  The Incredibles 2, Cars 3 in the works, Disney...   \n",
       "1  22241  The Incredibles are set for another big-screen...   \n",
       "2  22244  Pixar Working On Sequels For Popular Animated ...   \n",
       "3  22248  State Of The (Disney) Union: Cars 3, Incredibl...   \n",
       "4  22249             Disney Pixar confirm The Incredibles 2   \n",
       "\n",
       "               publisher category                          story  \\\n",
       "0            Digital Spy        e  dABGVITQs6X1I4MdYGnX9zY59PpVM   \n",
       "1      Belfast Telegraph        e  dABGVITQs6X1I4MdYGnX9zY59PpVM   \n",
       "2  Online News Heard Now        e  dABGVITQs6X1I4MdYGnX9zY59PpVM   \n",
       "3       Contactmusic.com        e  dABGVITQs6X1I4MdYGnX9zY59PpVM   \n",
       "4             Total Film        e  dABGVITQs6X1I4MdYGnX9zY59PpVM   \n",
       "\n",
       "                                        main_content  main_content_len  \\\n",
       "0  The Incredibles 2 and Cars 3 are in developmen...            1340.0   \n",
       "1  Incredibles 2, Cars 3 in the works BelfastTele...            1620.0   \n",
       "2  Posted by News\\n\\nPixar Working On Sequels For...            1339.0   \n",
       "3  In news you didn’t know you needed until right...            1737.0   \n",
       "4  The first footage from Incredibles 2 (there's ...            2942.0   \n",
       "\n",
       "                                        Speech_clean  \\\n",
       "0  The Incredibles 2 and Cars 3 are in developmen...   \n",
       "1  Incredibles 2, Cars 3 in the works BelfastTele...   \n",
       "2  Posted by News  Pixar Working On Sequels For P...   \n",
       "3  In news you didn’t know you needed until right...   \n",
       "4  The first footage from Incredibles 2  was show...   \n",
       "\n",
       "                                                sent  \n",
       "0  [The Incredibles 2 and Cars 3 are in developme...  \n",
       "1  [Incredibles 2, Cars 3 in the works BelfastTel...  \n",
       "2  [Posted by News  Pixar Working On Sequels For ...  \n",
       "3  [In news you didn’t know you needed until righ...  \n",
       "4  [The first footage from Incredibles 2  was sho...  "
      ]
     },
     "execution_count": 40,
     "metadata": {},
     "output_type": "execute_result"
    }
   ],
   "source": [
    "# Dataframe\n",
    "df = pd.read_csv(r'.\\datasets_AI\\news.csv')\n",
    "df = df.drop(columns=['url', 'hostname', 'timestamp'], axis=1)\n",
    "df = df[df.story == 'dABGVITQs6X1I4MdYGnX9zY59PpVM']\n",
    "# clean speech\n",
    "df['Speech_clean'] = df['main_content'].apply(clean)\n",
    "\n",
    "# seperate sentences\n",
    "df['sent'] = df['Speech_clean'].apply(sentences)\n",
    "# temporary disable\n",
    "\n",
    "\n",
    "#reset indices for removed stuff\n",
    "df.reset_index(inplace=True)\n",
    "df.drop(['Unnamed: 0', 'index'], axis = 1, inplace = True)\n",
    "\n",
    "df.head()"
   ]
  },
  {
   "cell_type": "code",
   "execution_count": 41,
   "metadata": {},
   "outputs": [
    {
     "data": {
      "text/html": [
       "<div>\n",
       "<style scoped>\n",
       "    .dataframe tbody tr th:only-of-type {\n",
       "        vertical-align: middle;\n",
       "    }\n",
       "\n",
       "    .dataframe tbody tr th {\n",
       "        vertical-align: top;\n",
       "    }\n",
       "\n",
       "    .dataframe thead th {\n",
       "        text-align: right;\n",
       "    }\n",
       "</style>\n",
       "<table border=\"1\" class=\"dataframe\">\n",
       "  <thead>\n",
       "    <tr style=\"text-align: right;\">\n",
       "      <th></th>\n",
       "      <th>id</th>\n",
       "      <th>sent</th>\n",
       "      <th>len</th>\n",
       "    </tr>\n",
       "  </thead>\n",
       "  <tbody>\n",
       "    <tr>\n",
       "      <th>0</th>\n",
       "      <td>22237</td>\n",
       "      <td>The Incredibles 2 and Cars 3 are in developmen...</td>\n",
       "      <td>224</td>\n",
       "    </tr>\n",
       "    <tr>\n",
       "      <th>1</th>\n",
       "      <td>22241</td>\n",
       "      <td>Incredibles 2, Cars 3 in the works BelfastTele...</td>\n",
       "      <td>239</td>\n",
       "    </tr>\n",
       "    <tr>\n",
       "      <th>2</th>\n",
       "      <td>22244</td>\n",
       "      <td>Posted by News  Pixar Working On Sequels For P...</td>\n",
       "      <td>227</td>\n",
       "    </tr>\n",
       "    <tr>\n",
       "      <th>3</th>\n",
       "      <td>22248</td>\n",
       "      <td>In news you didn’t know you needed until right...</td>\n",
       "      <td>306</td>\n",
       "    </tr>\n",
       "    <tr>\n",
       "      <th>4</th>\n",
       "      <td>22249</td>\n",
       "      <td>The first footage from Incredibles 2  was show...</td>\n",
       "      <td>503</td>\n",
       "    </tr>\n",
       "  </tbody>\n",
       "</table>\n",
       "</div>"
      ],
      "text/plain": [
       "      id                                               sent  len\n",
       "0  22237  The Incredibles 2 and Cars 3 are in developmen...  224\n",
       "1  22241  Incredibles 2, Cars 3 in the works BelfastTele...  239\n",
       "2  22244  Posted by News  Pixar Working On Sequels For P...  227\n",
       "3  22248  In news you didn’t know you needed until right...  306\n",
       "4  22249  The first footage from Incredibles 2  was show...  503"
      ]
     },
     "execution_count": 41,
     "metadata": {},
     "output_type": "execute_result"
    }
   ],
   "source": [
    "df2 = pd.DataFrame(columns=['sent','id','len'])\n",
    "\n",
    "row_list = []\n",
    "\n",
    "for i in range(len(df)):\n",
    "    for sent in df.at[i,'sent']:\n",
    "    \n",
    "        wordcount = len(sent.split())\n",
    "        id = df.at[i,'id']\n",
    "\n",
    "        dict1 = {'id' : id, 'sent' : sent, 'len' : wordcount}\n",
    "        row_list.append(dict1)\n",
    "    \n",
    "\n",
    "df2 = pd.DataFrame(row_list)\n",
    "df2.head()"
   ]
  },
  {
   "cell_type": "code",
   "execution_count": 42,
   "metadata": {},
   "outputs": [],
   "source": [
    "nlp = spacy.load('en_core_web_md')"
   ]
  },
  {
   "cell_type": "code",
   "execution_count": 43,
   "metadata": {},
   "outputs": [
    {
     "data": {
      "text/plain": [
       "[(Disney owned animation studio Pixar is to produce a sequel to the Oscar winning animation The Incredibles, more than a decade after Brad Bird hugely popular tale of a family of retired superheroes first hit cinemas.  The new instalment was announced yesterday by Walt Disney Bob Iger at a briefing for shareholders in Portland, Oregon. Iger also said Pixar would work on a second sequel to 2006 Cars.  The Incredibles is set in a world in which superheroes exist but have been banned from crime fighting. Mr Incredible  has been living incognito as plain old Bob Parr when a mysterious offer gives him the chance to return to action. Soon he and his wife Helen , along with their three children , are caught up in a not entirely welcome new adventure.  Bird followed up The Incredibles, his first Pixar film, with 2007 Ratatouille, winning the Oscar for best animation for both films. They are considered highlights from a golden era of animation, between Finding Nemo in 2003 and Toy Story 3 in 2010, in which Pixar won the prize a remarkable six times.  By contrast, the Cars series is considered the weakest in the Pixar canon. The first film picked up an Oscar nomination in a poor year for animated fare . But Cars 2, released in 2010, was considered a major disappointment; it currently holds a rating of 39% rotten on the review aggregator website Rotten Tomatoes.  Walt Disney may have been inspired to work on a new film by the considerable merchandising opportunities. Toys based on the Cars characters have brought in billions of dollars, according to the LA Times, while the Cars Land attraction at Disney California Adventure theme park, in Anaheim, has proven equally popular.  The film series has even spawned a spin off, last year 3D film Planes, which was released under the Disney banner. A sequel, Planes: Fire and Rescue comes out this summer.  Pixar is not averse to producing sequels to its best known films. As well as successful fare such as Toy Story 2 and 3, it put out the middling Monsters University prequel in 2013 and its Finding Nemo follow up, Finding Dory, is set to arrive in 2016.,\n",
       "  Fans of Pixar existing franchises, get pumped: The studio is working on new installments of both Cars and The Incredibles.  According to Variety, Disney CEO Bob Iger announced plans to develop a third Cars film as well as a sequel to 2004 The Incredibles during the company shareholders meeting in Portland, Oregon. The Incredibles director Brad Bird is on board for that sequel, but no details on the production team were announced for Cars 3.  The third Cars film would make it the second Pixar property to become a trilogy    the first being Toy Story    although the franchise is actually Pixar largest in terms of film count: The first Cars debuted in 2006, with a sequel arriving in 2011; Planes, the Cars direct to DVD spinoff, was released in 2013, and already has a sequel in development. By contrast, The Incredibles will be the fifth Pixar film to receive a direct sequel, behind Toy Story, Monsters Inc., Cars and Finding Nemo.  Pixar had previously announced plans for a theatrical re release of The Incredibles and Ratatouille in 3D. Other films the studio has in development include Finding Dory ; Inside Out and The Good Dinosaur.  Garth Ennis, Steve Epting Team Up for WWII Russia Comic),\n",
       " 0.9908919989288184]"
      ]
     },
     "execution_count": 43,
     "metadata": {},
     "output_type": "execute_result"
    }
   ],
   "source": [
    "p = df2['sent'].tolist()\n",
    "docx = nlp(p[np.random.randint(1, len(df2))])\n",
    "docy = nlp(p[np.random.randint(1, len(df2))])\n",
    "x = docx.similarity(docy)\n",
    "\n",
    "[(docx, docy), x]"
   ]
  },
  {
   "cell_type": "code",
   "execution_count": 44,
   "metadata": {},
   "outputs": [],
   "source": [
    "def dictfy(d1, t1):\n",
    "    sendict = dict()\n",
    "    for key in t1:\n",
    "        sendict[key] = []\n",
    "        for word in d1:\n",
    "            if word.label_ == key:\n",
    "                sendict[key].append(str(word).lower().strip())\n",
    "    for key in sendict.keys():\n",
    "        sendict[key] = list(set(sendict[key]))\n",
    "    return sendict\n"
   ]
  },
  {
   "cell_type": "code",
   "execution_count": 45,
   "metadata": {},
   "outputs": [
    {
     "name": "stdout",
     "output_type": "stream",
     "text": [
      "[{'ORG': ['disney', 'incredibles', 'iger', 'incredibles', 'incredibles', 'walt disney', 'the la times', 'disney california adventure', 'disney', 'monsters university'], 'PERSON': ['pixar', 'oscar', 'brad bird', 'walt disney bob iger', 'pixar', 'bob parr', 'helen', 'pixar', 'oscar', 'nemo', 'pixar', 'pixar', 'oscar', 'rotten tomatoes', 'nemo'], 'DATE': ['more than a decade', 'yesterday', '2006', '2003', '2010', 'a poor year', '2010', 'last year', 'this summer', '2013', '2016'], 'ORDINAL': ['first', 'second', 'first', 'first'], 'GPE': ['portland', 'oregon', 'anaheim'], 'CARDINAL': ['three', '3', 'six', '2'], 'PERCENT': ['39%'], 'MONEY': ['billions of dollars'], 'VERB': [living, according, producing, Finding, winning, Finding, winning]}, {'ORG': ['cars and the incredibles', 'variety', 'disney', 'incredibles', 'incredibles', 'toy story', 'incredibles', 'toy story', 'monsters inc.', 'cars and finding nemo', 'finding dory'], 'PERSON': ['bob iger', 'brad bird', 'pixar', 'pixar', 'garth ennis', 'steve epting team'], 'ORDINAL': ['third', 'third', 'second', 'first', 'first', 'fifth'], 'DATE': ['2004', '2006', '2011', '2013'], 'GPE': ['portland', 'oregon'], 'CARDINAL': ['3d.'], 'EVENT': ['wwii russia comic'], 'VERB': [According, being, existing, working, arriving]}] 0.9908919989288184\n"
     ]
    }
   ],
   "source": [
    "if x > 0.925:\n",
    "    x1 = dictfy([ent for ent in docx.ents], [ent.label_ for ent in docx.ents])\n",
    "    xres = filter(lambda x: x.tag_ == 'VBG', docx)\n",
    "    x1['VERB'] = list(set(xres))\n",
    "    y1 = dictfy([ent for ent in docy.ents], [ent.label_ for ent in docy.ents])\n",
    "    yres = filter(lambda y: y.tag_ == 'VBG', docy)\n",
    "    y1['VERB'] = list(set(yres))\n",
    "    print([x1, y1], x)\n",
    "else:\n",
    "    print([(docx, docy), x], \"sentences not similar enough\")\n",
    "\n",
    "# [[ent.text, ent.label_] for ent in docy.ents]"
   ]
  },
  {
   "cell_type": "code",
   "execution_count": null,
   "metadata": {},
   "outputs": [],
   "source": []
  }
 ],
 "metadata": {
  "interpreter": {
   "hash": "30e0093a970397ed409900a398af9a89913422676cb23e3d71f945f13aa175f8"
  },
  "kernelspec": {
   "display_name": "Python 3.9.12 64-bit (windows store)",
   "language": "python",
   "name": "python3"
  },
  "language_info": {
   "codemirror_mode": {
    "name": "ipython",
    "version": 3
   },
   "file_extension": ".py",
   "mimetype": "text/x-python",
   "name": "python",
   "nbconvert_exporter": "python",
   "pygments_lexer": "ipython3",
   "version": "3.9.13"
  },
  "orig_nbformat": 4
 },
 "nbformat": 4,
 "nbformat_minor": 2
}
